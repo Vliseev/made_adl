{
 "cells": [
  {
   "cell_type": "code",
   "execution_count": 66,
   "metadata": {},
   "outputs": [],
   "source": [
    "from collections import defaultdict\n",
    "from itertools import product\n",
    "\n",
    "import gym\n",
    "import matplotlib.pyplot as plt\n",
    "import numpy as np\n",
    "import seaborn as sns\n",
    "from sklearn.model_selection import ParameterSampler\n",
    "from tqdm import tqdm\n",
    "\n",
    "sns.set_theme(color_codes=True)"
   ]
  },
  {
   "cell_type": "markdown",
   "metadata": {},
   "source": [
    "### Часть первая, с блекджеком и стратегиями"
   ]
  },
  {
   "cell_type": "markdown",
   "metadata": {},
   "source": [
    "1. Рассмотрим очень простую стратегию: говорить `stand`, если у нас на руках комбинация в 19, 20 или 21 очко, во всех остальных случаях говорить `hit`. Используйте методы Монте-Карло, чтобы оценить выигрыш от этой стратегии."
   ]
  },
  {
   "cell_type": "code",
   "execution_count": 40,
   "metadata": {},
   "outputs": [],
   "source": [
    "env = gym.make('Blackjack-v0')"
   ]
  },
  {
   "cell_type": "code",
   "execution_count": 41,
   "metadata": {},
   "outputs": [],
   "source": [
    "def run_episode(env, pi, St2id):\n",
    "    state = env.reset()\n",
    "    states, rewards = [state], [0]\n",
    "    for _ in range(1000):\n",
    "        action = int(state[0]<19)\n",
    "        state, reward, done, _ = env.step(pi[St2id[state]])\n",
    "        states.append(state)\n",
    "        rewards.append(reward)\n",
    "        if done:\n",
    "            break\n",
    "    return states, rewards"
   ]
  },
  {
   "cell_type": "code",
   "execution_count": 42,
   "metadata": {},
   "outputs": [],
   "source": [
    "# состояния\n",
    "St = list(product(range(4,32),range(1,11),(False,True)))\n",
    "St2id = {}\n",
    "for i, st in enumerate(St):\n",
    "    St2id[st]=i"
   ]
  },
  {
   "cell_type": "code",
   "execution_count": 43,
   "metadata": {},
   "outputs": [],
   "source": [
    "simple_pi = [0]*len(St)\n",
    "for st in St:\n",
    "    s1, _, _ = st\n",
    "    if s1 < 19:\n",
    "        simple_pi[St2id[st]] = 1"
   ]
  },
  {
   "cell_type": "code",
   "execution_count": 44,
   "metadata": {},
   "outputs": [],
   "source": [
    "def mc_prediction(pi, env, St2id, n_episodes):\n",
    "    value_table = defaultdict(float)\n",
    "    N = defaultdict(int)\n",
    "    for _ in range(n_episodes):\n",
    "        states, rewards = run_episode(env, pi, St2id)\n",
    "        returns = 0\n",
    "        for t in range(len(states) - 1, -1, -1):\n",
    "            R = rewards[t]\n",
    "            S = states[t]\n",
    "            returns += R\n",
    "            if S not in states[:t]:\n",
    "                N[S] += 1\n",
    "                value_table[S] += (returns - value_table[S]) / N[S]\n",
    "    return value_table"
   ]
  },
  {
   "cell_type": "code",
   "execution_count": 46,
   "metadata": {},
   "outputs": [],
   "source": [
    "def get_mc_reward(pi, env, St2id, n_iter=500000):\n",
    "    value_table = mc_prediction(pi, env, St2id, n_iter)\n",
    "    init_states = [r for (s, r) in value_table.items() if 12 <= s[0] <= 20]\n",
    "    return np.mean(init_states)"
   ]
  },
  {
   "cell_type": "code",
   "execution_count": 47,
   "metadata": {},
   "outputs": [
    {
     "name": "stdout",
     "output_type": "stream",
     "text": [
      "-0.16982591485269108\n"
     ]
    }
   ],
   "source": [
    "# состояния с суммой от 12 до 20, так как состояния с суммой < 12 сводятся к этим\n",
    "rew = get_mc_reward(simple_pi, env, St2id)\n",
    "print(rew)"
   ]
  },
  {
   "cell_type": "markdown",
   "metadata": {},
   "source": [
    "2. Реализуйте метод обучения с подкреплением без модели (можно Q-обучение, но рекомендую попробовать и другие, например Monte Carlo control) для обучения стратегии в блекджеке, используя окружение Blackjack-v0 из OpenAI Gym."
   ]
  },
  {
   "cell_type": "code",
   "execution_count": 48,
   "metadata": {},
   "outputs": [],
   "source": [
    "def get_a(pi, state, epsilon, nA):\n",
    "    if np.random.rand() > epsilon:\n",
    "        return pi[state] \n",
    "    else:\n",
    "        return np.random.randint(nA)\n",
    "\n",
    "def compute_policy_by_Q(Q):\n",
    "    return np.argmax( Q, axis=1 )"
   ]
  },
  {
   "cell_type": "code",
   "execution_count": 49,
   "metadata": {},
   "outputs": [],
   "source": [
    "def Q_learning_episode(env, pi, Q, nA, St2id, alpha=0.05, epsilon=0.03, gamma=0.9):\n",
    "    s = env.reset()\n",
    "    a = get_a(pi, St2id[s], epsilon, nA)\n",
    "    for _ in range(1000):\n",
    "        state_prime, reward, done, _ = env.step(a)\n",
    "        a_prime = get_a(pi, St2id[state_prime], epsilon, nA)\n",
    "        Q[St2id[s]][a] = Q[St2id[s]][a] + alpha * \\\n",
    "            (reward + gamma * np.max(Q[St2id[state_prime]]) - Q[St2id[s]][a])\n",
    "        s, a = state_prime, a_prime\n",
    "        if done:\n",
    "            break"
   ]
  },
  {
   "cell_type": "code",
   "execution_count": 50,
   "metadata": {},
   "outputs": [
    {
     "name": "stderr",
     "output_type": "stream",
     "text": [
      "100%|██████████| 500000/500000 [00:43<00:00, 11441.10it/s]\n"
     ]
    }
   ],
   "source": [
    "Q = np.zeros((len(St),2))\n",
    "pi = compute_policy_by_Q(Q)\n",
    "nA = 2 # 2 состояния\n",
    "total_episodes=500000\n",
    "\n",
    "for n in tqdm(range(total_episodes)):\n",
    "    Q_learning_episode(env, pi, Q, nA, St2id, epsilon=0.03)\n",
    "    pi = compute_policy_by_Q(Q)"
   ]
  },
  {
   "cell_type": "code",
   "execution_count": 51,
   "metadata": {},
   "outputs": [
    {
     "name": "stdout",
     "output_type": "stream",
     "text": [
      "-0.10007635834275382\n"
     ]
    }
   ],
   "source": [
    "rew = get_mc_reward(pi, env, St2id)\n",
    "print(rew)"
   ]
  },
  {
   "cell_type": "code",
   "execution_count": 52,
   "metadata": {},
   "outputs": [],
   "source": [
    "param_grid = {'alpha': np.linspace(1e-3,3e-1,10), 'gamma': np.linspace(1e-3,3e-1,10)}"
   ]
  },
  {
   "cell_type": "code",
   "execution_count": 56,
   "metadata": {
    "scrolled": true
   },
   "outputs": [
    {
     "name": "stderr",
     "output_type": "stream",
     "text": [
      "100%|██████████| 10/10 [05:56<00:00, 35.68s/it]\n"
     ]
    }
   ],
   "source": [
    "nA = 2 # 2 состояния\n",
    "total_episodes=100000\n",
    "param_list=[]\n",
    "rew_list=[]\n",
    "for param in tqdm(ParameterSampler(param_grid, n_iter=10, random_state=123)):\n",
    "    Q = np.zeros((len(St),2))\n",
    "    pi = compute_policy_by_Q(Q)\n",
    "    for n in range(total_episodes):\n",
    "        Q_learning_episode(env, pi, Q, nA, St2id, param['alpha'], 0.03, param['gamma'])\n",
    "        pi = compute_policy_by_Q(Q)\n",
    "        \n",
    "    rew = get_mc_reward(pi, env, St2id)\n",
    "    rew_list.append(rew)\n",
    "    param_list.append(param)"
   ]
  },
  {
   "cell_type": "code",
   "execution_count": 59,
   "metadata": {},
   "outputs": [
    {
     "data": {
      "text/plain": [
       "{'gamma': 0.1671111111111111, 'alpha': 0.001}"
      ]
     },
     "execution_count": 59,
     "metadata": {},
     "output_type": "execute_result"
    }
   ],
   "source": [
    "param_list[np.argmax(rew_list)]"
   ]
  },
  {
   "cell_type": "code",
   "execution_count": null,
   "metadata": {},
   "outputs": [],
   "source": []
  },
  {
   "cell_type": "code",
   "execution_count": 71,
   "metadata": {},
   "outputs": [
    {
     "name": "stderr",
     "output_type": "stream",
     "text": [
      "100%|██████████| 700000/700000 [05:53<00:00, 1977.41it/s] \n"
     ]
    }
   ],
   "source": [
    "Q = np.zeros((len(St),2))\n",
    "pi = compute_policy_by_Q(Q)\n",
    "nA = 2 # 2 состояния\n",
    "total_episodes=700000\n",
    "cur_pos = 1\n",
    "border = np.linspace(100,total_episodes+1,11)\n",
    "history = []\n",
    "for n in tqdm(range(total_episodes)):\n",
    "    if border[cur_pos] < n:\n",
    "        rew = get_mc_reward(pi, env, St2id)\n",
    "        cur_pos += 1\n",
    "        history.append((n, rew))\n",
    "    Q_learning_episode(env, pi, Q, nA, St2id, epsilon=0.03, **param_list[np.argmax(rew_list)])\n",
    "    pi = compute_policy_by_Q(Q)\n",
    "rew = get_mc_reward(pi, env, St2id)\n",
    "history.append((total_episodes, rew))"
   ]
  },
  {
   "cell_type": "code",
   "execution_count": 73,
   "metadata": {},
   "outputs": [
    {
     "data": {
      "image/png": "[encoded data removed]",
      "text/plain": [
       "<Figure size 720x432 with 1 Axes>"
      ]
     },
     "metadata": {},
     "output_type": "display_data"
    }
   ],
   "source": [
    "plt.figure(figsize=(10,6))\n",
    "x, y = list(zip(*history))\n",
    "ax, = plt.plot(x,y, linestyle='-', marker='o', color='b')\n",
    "plt.xlabel('количество игр')\n",
    "plt.ylabel('награда')\n",
    "plt.show()"
   ]
  },
  {
   "cell_type": "markdown",
   "metadata": {},
   "source": [
    "### Часть вторая, удвоенная"
   ]
  },
  {
   "cell_type": "markdown",
   "metadata": {},
   "source": [
    "4. Реализуйте новый вариант блекджека на основе окружения Blackjack-v0 из OpenAI Gym, в котором разрешено удвоение ставки.\n",
    "5. Реализуйте метод обучения с подкреплением без модели для этого варианта, постройте графики, аналогичные п.2.\n"
   ]
  },
  {
   "cell_type": "code",
   "execution_count": 77,
   "metadata": {},
   "outputs": [],
   "source": [
    "from blackjack_double import BlackjackDoubleEnv"
   ]
  },
  {
   "cell_type": "code",
   "execution_count": 78,
   "metadata": {},
   "outputs": [],
   "source": [
    "double_env=BlackjackDoubleEnv()"
   ]
  },
  {
   "cell_type": "code",
   "execution_count": 22,
   "metadata": {},
   "outputs": [
    {
     "name": "stderr",
     "output_type": "stream",
     "text": [
      "100%|██████████| 500000/500000 [00:43<00:00, 11385.51it/s]\n"
     ]
    }
   ],
   "source": [
    "Q = np.zeros((len(St),3))\n",
    "pi = compute_policy_by_Q(Q)\n",
    "nA = 3 # 2 состояния\n",
    "total_episodes=500000\n",
    "\n",
    "for n in tqdm(range(total_episodes)):\n",
    "    Q_learning_episode(double_env, pi, Q, nA, St2id, epsilon=0.03)\n",
    "    pi = compute_policy_by_Q(Q)"
   ]
  },
  {
   "cell_type": "code",
   "execution_count": 23,
   "metadata": {},
   "outputs": [
    {
     "name": "stderr",
     "output_type": "stream",
     "text": [
      "100%|██████████| 500000/500000 [00:30<00:00, 16407.05it/s]"
     ]
    },
    {
     "name": "stdout",
     "output_type": "stream",
     "text": [
      "-0.08603543438238026\n"
     ]
    },
    {
     "name": "stderr",
     "output_type": "stream",
     "text": [
      "\n"
     ]
    }
   ],
   "source": [
    "# награда Q-learning double\n",
    "rew = get_mc_reward(pi, double_env, St2id)\n",
    "print(rew)"
   ]
  },
  {
   "cell_type": "code",
   "execution_count": null,
   "metadata": {},
   "outputs": [
    {
     "name": "stderr",
     "output_type": "stream",
     "text": [
      "  0%|          | 0/10 [00:00<?, ?it/s]"
     ]
    }
   ],
   "source": [
    "nA = 3 # 3 состояния\n",
    "total_episodes=100000\n",
    "param_list=[]\n",
    "rew_list=[]\n",
    "for param in tqdm(ParameterSampler(param_grid, n_iter=10, random_state=123)):\n",
    "    Q = np.zeros((len(St),3))\n",
    "    pi = compute_policy_by_Q(Q)\n",
    "    for n in range(total_episodes):\n",
    "        Q_learning_episode(double_env, pi, Q, nA, St2id, param['alpha'], 0.03, param['gamma'])\n",
    "        pi = compute_policy_by_Q(Q)\n",
    "        \n",
    "    rew = get_mc_reward(pi, double_env, St2id)\n",
    "    rew_list.append(rew)\n",
    "    param_list.append(param)"
   ]
  },
  {
   "cell_type": "code",
   "execution_count": 26,
   "metadata": {
    "scrolled": true
   },
   "outputs": [
    {
     "name": "stderr",
     "output_type": "stream",
     "text": [
      "100%|██████████| 500000/500000 [00:42<00:00, 11779.09it/s]\n",
      "100%|██████████| 100000/100000 [00:05<00:00, 17333.08it/s]\n",
      "  0%|          | 2416/500000 [00:00<00:41, 12109.98it/s]"
     ]
    },
    {
     "name": "stdout",
     "output_type": "stream",
     "text": [
      "{'gamma': 0.2667777777777778, 'alpha': 0.001} -0.02644946000615704\n"
     ]
    },
    {
     "name": "stderr",
     "output_type": "stream",
     "text": [
      "100%|██████████| 500000/500000 [00:45<00:00, 10965.95it/s]\n",
      "100%|██████████| 100000/100000 [00:06<00:00, 16519.39it/s]\n",
      "  0%|          | 1192/500000 [00:00<00:41, 11908.68it/s]"
     ]
    },
    {
     "name": "stdout",
     "output_type": "stream",
     "text": [
      "{'gamma': 0.001, 'alpha': 0.23355555555555557} -0.07043554133058579\n"
     ]
    },
    {
     "name": "stderr",
     "output_type": "stream",
     "text": [
      "100%|██████████| 500000/500000 [00:45<00:00, 11102.06it/s]\n",
      "100%|██████████| 100000/100000 [00:05<00:00, 16801.34it/s]\n",
      "  0%|          | 1220/500000 [00:00<00:40, 12195.97it/s]"
     ]
    },
    {
     "name": "stdout",
     "output_type": "stream",
     "text": [
      "{'gamma': 0.06744444444444445, 'alpha': 0.2667777777777778} -0.1255552828143272\n"
     ]
    },
    {
     "name": "stderr",
     "output_type": "stream",
     "text": [
      "100%|██████████| 500000/500000 [00:45<00:00, 10981.87it/s]\n",
      "100%|██████████| 100000/100000 [00:06<00:00, 16165.82it/s]\n",
      "  0%|          | 1200/500000 [00:00<00:41, 11994.95it/s]"
     ]
    },
    {
     "name": "stdout",
     "output_type": "stream",
     "text": [
      "{'gamma': 0.2667777777777778, 'alpha': 0.06744444444444445} -0.04548291055750132\n"
     ]
    },
    {
     "name": "stderr",
     "output_type": "stream",
     "text": [
      "100%|██████████| 500000/500000 [00:45<00:00, 10962.82it/s]\n",
      "100%|██████████| 100000/100000 [00:05<00:00, 16987.67it/s]\n",
      "  0%|          | 1230/500000 [00:00<00:40, 12291.04it/s]"
     ]
    },
    {
     "name": "stdout",
     "output_type": "stream",
     "text": [
      "{'gamma': 0.10066666666666667, 'alpha': 0.20033333333333334} -0.07851105918877423\n"
     ]
    },
    {
     "name": "stderr",
     "output_type": "stream",
     "text": [
      "100%|██████████| 500000/500000 [00:44<00:00, 11199.08it/s]\n",
      "100%|██████████| 100000/100000 [00:05<00:00, 17312.55it/s]\n",
      "  0%|          | 2337/500000 [00:00<00:42, 11781.82it/s]"
     ]
    },
    {
     "name": "stdout",
     "output_type": "stream",
     "text": [
      "{'gamma': 0.001, 'alpha': 0.001} -0.012131505812639172\n"
     ]
    },
    {
     "name": "stderr",
     "output_type": "stream",
     "text": [
      "100%|██████████| 500000/500000 [00:45<00:00, 10931.03it/s]\n",
      "100%|██████████| 100000/100000 [00:06<00:00, 15752.71it/s]\n",
      "  0%|          | 2308/500000 [00:00<00:42, 11582.36it/s]"
     ]
    },
    {
     "name": "stdout",
     "output_type": "stream",
     "text": [
      "{'gamma': 0.1671111111111111, 'alpha': 0.001} -0.02508386353365977\n"
     ]
    },
    {
     "name": "stderr",
     "output_type": "stream",
     "text": [
      "100%|██████████| 500000/500000 [00:46<00:00, 10830.36it/s]\n",
      "100%|██████████| 100000/100000 [00:06<00:00, 15850.69it/s]\n",
      "  0%|          | 2272/500000 [00:00<00:44, 11243.99it/s]"
     ]
    },
    {
     "name": "stdout",
     "output_type": "stream",
     "text": [
      "{'gamma': 0.001, 'alpha': 0.1671111111111111} -0.038950788328225135\n"
     ]
    },
    {
     "name": "stderr",
     "output_type": "stream",
     "text": [
      "100%|██████████| 500000/500000 [00:46<00:00, 10700.91it/s]\n",
      "100%|██████████| 100000/100000 [00:06<00:00, 15803.81it/s]\n",
      "  0%|          | 1213/500000 [00:00<00:41, 12126.74it/s]"
     ]
    },
    {
     "name": "stdout",
     "output_type": "stream",
     "text": [
      "{'gamma': 0.03422222222222222, 'alpha': 0.2667777777777778} -0.09731809256759906\n"
     ]
    },
    {
     "name": "stderr",
     "output_type": "stream",
     "text": [
      "100%|██████████| 500000/500000 [6:56:50<00:00, 19.99it/s]    \n",
      "100%|██████████| 100000/100000 [00:03<00:00, 25940.63it/s]"
     ]
    },
    {
     "name": "stdout",
     "output_type": "stream",
     "text": [
      "{'gamma': 0.1338888888888889, 'alpha': 0.001} -0.0024079921715451282\n"
     ]
    },
    {
     "name": "stderr",
     "output_type": "stream",
     "text": [
      "\n"
     ]
    }
   ],
   "source": [
    "nA = 3 # 2 состояния\n",
    "total_episodes=500000\n",
    "\n",
    "for param in ParameterSampler(param_grid, n_iter=10, random_state=123):\n",
    "    Q = np.zeros((len(St),3))\n",
    "    pi = compute_policy_by_Q(Q)\n",
    "    for n in tqdm(range(total_episodes)):\n",
    "        Q_learning_episode(double_env, pi, Q, nA, St2id, param['alpha'], 0.03, param['gamma'])\n",
    "        pi = compute_policy_by_Q(Q)\n",
    "    rew = get_mc_reward(pi, double_env, St2id)\n",
    "    print(param, rew)"
   ]
  },
  {
   "cell_type": "markdown",
   "metadata": {},
   "source": [
    "### Часть третья, в главной роли — Дастин Хоффман"
   ]
  },
  {
   "cell_type": "markdown",
   "metadata": {},
   "source": [
    "4. Реализуйте вариант окружения Blackjack-v0 из предыдущей части (с удвоением), в котором игрок имеет возможность “считать карты” в колоде. Это можно сделать разными способами; возможно, вам поможет статья википедии о блекджеке (а возможно, и нет)."
   ]
  },
  {
   "cell_type": "code",
   "execution_count": 12,
   "metadata": {},
   "outputs": [],
   "source": [
    "from blackjack_count_double import BlackjackDoubleCountEnv"
   ]
  },
  {
   "cell_type": "code",
   "execution_count": 13,
   "metadata": {},
   "outputs": [],
   "source": [
    "double_env_count = BlackjackDoubleCountEnv()"
   ]
  },
  {
   "cell_type": "code",
   "execution_count": 18,
   "metadata": {},
   "outputs": [],
   "source": [
    "# состояния\n",
    "St = list(product(range(4,32),range(1,11),(False,True), range(22*4+1)))\n",
    "St2id = {}\n",
    "for i, st in enumerate(St):\n",
    "    St2id[st]=i"
   ]
  },
  {
   "cell_type": "code",
   "execution_count": 29,
   "metadata": {},
   "outputs": [
    {
     "name": "stderr",
     "output_type": "stream",
     "text": [
      " 10%|█         | 1/10 [01:12<10:55, 72.89s/it]"
     ]
    },
    {
     "name": "stdout",
     "output_type": "stream",
     "text": [
      "{'gamma': 0.2667777777777778, 'alpha': 0.001} -0.10893940429231434\n"
     ]
    },
    {
     "name": "stderr",
     "output_type": "stream",
     "text": [
      " 20%|██        | 2/10 [02:26<09:45, 73.15s/it]"
     ]
    },
    {
     "name": "stdout",
     "output_type": "stream",
     "text": [
      "{'gamma': 0.001, 'alpha': 0.23355555555555557} -0.10039150075769915\n"
     ]
    },
    {
     "name": "stderr",
     "output_type": "stream",
     "text": [
      " 30%|███       | 3/10 [03:42<08:38, 74.04s/it]"
     ]
    },
    {
     "name": "stdout",
     "output_type": "stream",
     "text": [
      "{'gamma': 0.06744444444444445, 'alpha': 0.2667777777777778} -0.09407704975043381\n"
     ]
    },
    {
     "name": "stderr",
     "output_type": "stream",
     "text": [
      " 40%|████      | 4/10 [04:57<07:25, 74.25s/it]"
     ]
    },
    {
     "name": "stdout",
     "output_type": "stream",
     "text": [
      "{'gamma': 0.2667777777777778, 'alpha': 0.06744444444444445} -0.08873627264232117\n"
     ]
    },
    {
     "name": "stderr",
     "output_type": "stream",
     "text": [
      " 50%|█████     | 5/10 [06:11<06:10, 74.10s/it]"
     ]
    },
    {
     "name": "stdout",
     "output_type": "stream",
     "text": [
      "{'gamma': 0.10066666666666667, 'alpha': 0.20033333333333334} -0.09746443881022229\n"
     ]
    },
    {
     "name": "stderr",
     "output_type": "stream",
     "text": [
      " 50%|█████     | 5/10 [06:43<06:43, 80.68s/it]\n"
     ]
    },
    {
     "ename": "KeyboardInterrupt",
     "evalue": "",
     "output_type": "error",
     "traceback": [
      "\u001b[0;31m---------------------------------------------------------------------------\u001b[0m",
      "\u001b[0;31mKeyboardInterrupt\u001b[0m                         Traceback (most recent call last)",
      "\u001b[0;32m<ipython-input-29-8d474fb22f12>\u001b[0m in \u001b[0;36m<module>\u001b[0;34m\u001b[0m\n\u001b[1;32m      7\u001b[0m     \u001b[0;32mfor\u001b[0m \u001b[0mn\u001b[0m \u001b[0;32min\u001b[0m \u001b[0mrange\u001b[0m\u001b[0;34m(\u001b[0m\u001b[0mtotal_episodes\u001b[0m\u001b[0;34m)\u001b[0m\u001b[0;34m:\u001b[0m\u001b[0;34m\u001b[0m\u001b[0;34m\u001b[0m\u001b[0m\n\u001b[1;32m      8\u001b[0m         \u001b[0mQ_learning_episode\u001b[0m\u001b[0;34m(\u001b[0m\u001b[0mdouble_env_count\u001b[0m\u001b[0;34m,\u001b[0m \u001b[0mpi\u001b[0m\u001b[0;34m,\u001b[0m \u001b[0mQ\u001b[0m\u001b[0;34m,\u001b[0m \u001b[0mnA\u001b[0m\u001b[0;34m,\u001b[0m \u001b[0mSt2id\u001b[0m\u001b[0;34m,\u001b[0m \u001b[0mparam\u001b[0m\u001b[0;34m[\u001b[0m\u001b[0;34m'alpha'\u001b[0m\u001b[0;34m]\u001b[0m\u001b[0;34m,\u001b[0m \u001b[0;36m0.03\u001b[0m\u001b[0;34m,\u001b[0m \u001b[0mparam\u001b[0m\u001b[0;34m[\u001b[0m\u001b[0;34m'gamma'\u001b[0m\u001b[0;34m]\u001b[0m\u001b[0;34m)\u001b[0m\u001b[0;34m\u001b[0m\u001b[0;34m\u001b[0m\u001b[0m\n\u001b[0;32m----> 9\u001b[0;31m         \u001b[0mpi\u001b[0m \u001b[0;34m=\u001b[0m \u001b[0mcompute_policy_by_Q\u001b[0m\u001b[0;34m(\u001b[0m\u001b[0mQ\u001b[0m\u001b[0;34m)\u001b[0m\u001b[0;34m\u001b[0m\u001b[0;34m\u001b[0m\u001b[0m\n\u001b[0m\u001b[1;32m     10\u001b[0m     \u001b[0mrew\u001b[0m \u001b[0;34m=\u001b[0m \u001b[0mget_mc_reward\u001b[0m\u001b[0;34m(\u001b[0m\u001b[0mpi\u001b[0m\u001b[0;34m,\u001b[0m \u001b[0mdouble_env_count\u001b[0m\u001b[0;34m,\u001b[0m \u001b[0mSt2id\u001b[0m\u001b[0;34m)\u001b[0m\u001b[0;34m\u001b[0m\u001b[0;34m\u001b[0m\u001b[0m\n\u001b[1;32m     11\u001b[0m     \u001b[0mprint\u001b[0m\u001b[0;34m(\u001b[0m\u001b[0mparam\u001b[0m\u001b[0;34m,\u001b[0m \u001b[0mrew\u001b[0m\u001b[0;34m)\u001b[0m\u001b[0;34m\u001b[0m\u001b[0;34m\u001b[0m\u001b[0m\n",
      "\u001b[0;32m<ipython-input-10-522c3377024b>\u001b[0m in \u001b[0;36mcompute_policy_by_Q\u001b[0;34m(Q)\u001b[0m\n\u001b[1;32m      6\u001b[0m \u001b[0;34m\u001b[0m\u001b[0m\n\u001b[1;32m      7\u001b[0m \u001b[0;32mdef\u001b[0m \u001b[0mcompute_policy_by_Q\u001b[0m\u001b[0;34m(\u001b[0m\u001b[0mQ\u001b[0m\u001b[0;34m)\u001b[0m\u001b[0;34m:\u001b[0m\u001b[0;34m\u001b[0m\u001b[0;34m\u001b[0m\u001b[0m\n\u001b[0;32m----> 8\u001b[0;31m     \u001b[0;32mreturn\u001b[0m \u001b[0mnp\u001b[0m\u001b[0;34m.\u001b[0m\u001b[0margmax\u001b[0m\u001b[0;34m(\u001b[0m \u001b[0mQ\u001b[0m\u001b[0;34m,\u001b[0m \u001b[0maxis\u001b[0m\u001b[0;34m=\u001b[0m\u001b[0;36m1\u001b[0m \u001b[0;34m)\u001b[0m\u001b[0;34m\u001b[0m\u001b[0;34m\u001b[0m\u001b[0m\n\u001b[0m",
      "\u001b[0;32m<__array_function__ internals>\u001b[0m in \u001b[0;36margmax\u001b[0;34m(*args, **kwargs)\u001b[0m\n",
      "\u001b[0;32m~/miniconda3/envs/ml-py37/lib/python3.8/site-packages/numpy/core/fromnumeric.py\u001b[0m in \u001b[0;36margmax\u001b[0;34m(a, axis, out)\u001b[0m\n\u001b[1;32m   1186\u001b[0m \u001b[0;34m\u001b[0m\u001b[0m\n\u001b[1;32m   1187\u001b[0m     \"\"\"\n\u001b[0;32m-> 1188\u001b[0;31m     \u001b[0;32mreturn\u001b[0m \u001b[0m_wrapfunc\u001b[0m\u001b[0;34m(\u001b[0m\u001b[0ma\u001b[0m\u001b[0;34m,\u001b[0m \u001b[0;34m'argmax'\u001b[0m\u001b[0;34m,\u001b[0m \u001b[0maxis\u001b[0m\u001b[0;34m=\u001b[0m\u001b[0maxis\u001b[0m\u001b[0;34m,\u001b[0m \u001b[0mout\u001b[0m\u001b[0;34m=\u001b[0m\u001b[0mout\u001b[0m\u001b[0;34m)\u001b[0m\u001b[0;34m\u001b[0m\u001b[0;34m\u001b[0m\u001b[0m\n\u001b[0m\u001b[1;32m   1189\u001b[0m \u001b[0;34m\u001b[0m\u001b[0m\n\u001b[1;32m   1190\u001b[0m \u001b[0;34m\u001b[0m\u001b[0m\n",
      "\u001b[0;32m~/miniconda3/envs/ml-py37/lib/python3.8/site-packages/numpy/core/fromnumeric.py\u001b[0m in \u001b[0;36m_wrapfunc\u001b[0;34m(obj, method, *args, **kwds)\u001b[0m\n\u001b[1;32m     56\u001b[0m \u001b[0;34m\u001b[0m\u001b[0m\n\u001b[1;32m     57\u001b[0m     \u001b[0;32mtry\u001b[0m\u001b[0;34m:\u001b[0m\u001b[0;34m\u001b[0m\u001b[0;34m\u001b[0m\u001b[0m\n\u001b[0;32m---> 58\u001b[0;31m         \u001b[0;32mreturn\u001b[0m \u001b[0mbound\u001b[0m\u001b[0;34m(\u001b[0m\u001b[0;34m*\u001b[0m\u001b[0margs\u001b[0m\u001b[0;34m,\u001b[0m \u001b[0;34m**\u001b[0m\u001b[0mkwds\u001b[0m\u001b[0;34m)\u001b[0m\u001b[0;34m\u001b[0m\u001b[0;34m\u001b[0m\u001b[0m\n\u001b[0m\u001b[1;32m     59\u001b[0m     \u001b[0;32mexcept\u001b[0m \u001b[0mTypeError\u001b[0m\u001b[0;34m:\u001b[0m\u001b[0;34m\u001b[0m\u001b[0;34m\u001b[0m\u001b[0m\n\u001b[1;32m     60\u001b[0m         \u001b[0;31m# A TypeError occurs if the object does have such a method in its\u001b[0m\u001b[0;34m\u001b[0m\u001b[0;34m\u001b[0m\u001b[0;34m\u001b[0m\u001b[0m\n",
      "\u001b[0;31mKeyboardInterrupt\u001b[0m: "
     ]
    }
   ],
   "source": [
    "nA = 3 # 2 состояния\n",
    "total_episodes=100000\n",
    "\n",
    "for param in tqdm(ParameterSampler(param_grid, n_iter=10, random_state=123)):\n",
    "    Q = np.zeros((len(St),3))\n",
    "    pi = compute_policy_by_Q(Q)\n",
    "    for n in range(total_episodes):\n",
    "        Q_learning_episode(double_env_count, pi, Q, nA, St2id, param['alpha'], 0.03, param['gamma'])\n",
    "        pi = compute_policy_by_Q(Q)\n",
    "    rew = get_mc_reward(pi, double_env_count, St2id)\n",
    "    print(param, rew)"
   ]
  },
  {
   "cell_type": "code",
   "execution_count": 21,
   "metadata": {},
   "outputs": [
    {
     "name": "stderr",
     "output_type": "stream",
     "text": [
      "100%|██████████| 1000000/1000000 [03:55<00:00, 4239.82it/s]\n",
      "100%|██████████| 100000/100000 [00:07<00:00, 13246.70it/s]"
     ]
    },
    {
     "name": "stdout",
     "output_type": "stream",
     "text": [
      "-0.036156764819441876\n"
     ]
    },
    {
     "name": "stderr",
     "output_type": "stream",
     "text": [
      "\n"
     ]
    }
   ],
   "source": [
    "Q = np.zeros((len(St),3))\n",
    "pi = compute_policy_by_Q(Q)\n",
    "nA = 3 # 2 состояния\n",
    "total_episodes=1000000\n",
    "\n",
    "for n in tqdm(range(total_episodes)):\n",
    "    Q_learning_episode(double_env_count, pi, Q, nA, St2id, alpha=0.001,epsilon=0.01, gamma=0.133)\n",
    "    pi = compute_policy_by_Q(Q)\n",
    "# награда Q-learning double\n",
    "value_table = mc_prediction(pi, double_env_count, St2id, 100000)\n",
    "init_states = [r for ((s1, _, _,_), r) in value_table.items() if 12 <= s1 <= 20]\n",
    "print(np.mean(init_states))"
   ]
  },
  {
   "cell_type": "code",
   "execution_count": null,
   "metadata": {},
   "outputs": [],
   "source": []
  }
 ],
 "metadata": {
  "kernelspec": {
   "display_name": "Python 3",
   "language": "python",
   "name": "python3"
  },
  "language_info": {
   "codemirror_mode": {
    "name": "ipython",
    "version": 3
   },
   "file_extension": ".py",
   "mimetype": "text/x-python",
   "name": "python",
   "nbconvert_exporter": "python",
   "pygments_lexer": "ipython3",
   "version": "3.8.5"
  }
 },
 "nbformat": 4,
 "nbformat_minor": 4
}
