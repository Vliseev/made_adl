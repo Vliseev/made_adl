{
 "cells": [
  {
   "cell_type": "code",
   "execution_count": 1,
   "metadata": {},
   "outputs": [],
   "source": [
    "from collections import defaultdict\n",
    "from itertools import product\n",
    "\n",
    "import gym\n",
    "import matplotlib.pyplot as plt\n",
    "import numpy as np\n",
    "import seaborn as sns\n",
    "from sklearn.model_selection import ParameterSampler\n",
    "from tqdm import tqdm\n",
    "\n",
    "sns.set_theme(color_codes=True)"
   ]
  },
  {
   "cell_type": "markdown",
   "metadata": {},
   "source": [
    "### Часть первая, с блекджеком и стратегиями"
   ]
  },
  {
   "cell_type": "markdown",
   "metadata": {},
   "source": [
    "1. Рассмотрим очень простую стратегию: говорить `stand`, если у нас на руках комбинация в 19, 20 или 21 очко, во всех остальных случаях говорить `hit`. Используйте методы Монте-Карло, чтобы оценить выигрыш от этой стратегии."
   ]
  },
  {
   "cell_type": "code",
   "execution_count": 2,
   "metadata": {},
   "outputs": [],
   "source": [
    "env = gym.make('Blackjack-v0')"
   ]
  },
  {
   "cell_type": "code",
   "execution_count": 3,
   "metadata": {},
   "outputs": [],
   "source": [
    "def run_episode(env, pi, St2id):\n",
    "    state = env.reset()\n",
    "    states, rewards = [state], [0]\n",
    "    for _ in range(1000):\n",
    "        action = int(state[0]<19)\n",
    "        state, reward, done, _ = env.step(pi[St2id[state]])\n",
    "        states.append(state)\n",
    "        rewards.append(reward)\n",
    "        if done:\n",
    "            break\n",
    "    return states, rewards"
   ]
  },
  {
   "cell_type": "code",
   "execution_count": 4,
   "metadata": {},
   "outputs": [],
   "source": [
    "# состояния\n",
    "St = list(product(range(4,32),range(1,11),(False,True)))\n",
    "St2id = {}\n",
    "for i, st in enumerate(St):\n",
    "    St2id[st]=i"
   ]
  },
  {
   "cell_type": "code",
   "execution_count": 5,
   "metadata": {},
   "outputs": [],
   "source": [
    "simple_pi = [0]*len(St)\n",
    "for st in St:\n",
    "    s1, _, _ = st\n",
    "    if s1 < 19:\n",
    "        simple_pi[St2id[st]] = 1"
   ]
  },
  {
   "cell_type": "code",
   "execution_count": 6,
   "metadata": {},
   "outputs": [],
   "source": [
    "def mc_prediction(pi, env, St2id, n_episodes):\n",
    "    value_table = defaultdict(float)\n",
    "    N = defaultdict(int)\n",
    "    for _ in range(n_episodes):\n",
    "        states, rewards = run_episode(env, pi, St2id)\n",
    "        returns = 0\n",
    "        for t in range(len(states) - 1, -1, -1):\n",
    "            R = rewards[t]\n",
    "            S = states[t]\n",
    "            returns += R\n",
    "            if S not in states[:t]:\n",
    "                N[S] += 1\n",
    "                value_table[S] += (returns - value_table[S]) / N[S]\n",
    "    return value_table"
   ]
  },
  {
   "cell_type": "code",
   "execution_count": 7,
   "metadata": {},
   "outputs": [],
   "source": [
    "def get_mc_reward(pi, env, St2id, n_iter=500000):\n",
    "    value_table = mc_prediction(pi, env, St2id, n_iter)\n",
    "    init_states = [r for (s, r) in value_table.items() if 12 <= s[0] <= 20]\n",
    "    return np.mean(init_states)"
   ]
  },
  {
   "cell_type": "code",
   "execution_count": 8,
   "metadata": {},
   "outputs": [
    {
     "name": "stdout",
     "output_type": "stream",
     "text": [
      "-0.1688627099803447\n"
     ]
    }
   ],
   "source": [
    "# состояния с суммой от 12 до 20, так как состояния с суммой < 12 сводятся к этим\n",
    "rew = get_mc_reward(simple_pi, env, St2id)\n",
    "print(rew)"
   ]
  },
  {
   "cell_type": "markdown",
   "metadata": {},
   "source": [
    "2. Реализуйте метод обучения с подкреплением без модели (можно Q-обучение, но рекомендую попробовать и другие, например Monte Carlo control) для обучения стратегии в блекджеке, используя окружение Blackjack-v0 из OpenAI Gym."
   ]
  },
  {
   "cell_type": "code",
   "execution_count": 9,
   "metadata": {},
   "outputs": [],
   "source": [
    "def get_a(pi, state, epsilon, nA):\n",
    "    if np.random.rand() > epsilon:\n",
    "        return pi[state] \n",
    "    else:\n",
    "        return np.random.randint(nA)\n",
    "\n",
    "def compute_policy_by_Q(Q):\n",
    "    return np.argmax( Q, axis=1 )"
   ]
  },
  {
   "cell_type": "code",
   "execution_count": 10,
   "metadata": {},
   "outputs": [],
   "source": [
    "def Q_learning_episode(env, pi, Q, nA, St2id, alpha=0.05, epsilon=0.03, gamma=0.9):\n",
    "    s = env.reset()\n",
    "    a = get_a(pi, St2id[s], epsilon, nA)\n",
    "    for _ in range(1000):\n",
    "        state_prime, reward, done, _ = env.step(a)\n",
    "        a_prime = get_a(pi, St2id[state_prime], epsilon, nA)\n",
    "        Q[St2id[s]][a] = Q[St2id[s]][a] + alpha * \\\n",
    "            (reward + gamma * np.max(Q[St2id[state_prime]]) - Q[St2id[s]][a])\n",
    "        s, a = state_prime, a_prime\n",
    "        if done:\n",
    "            break"
   ]
  },
  {
   "cell_type": "code",
   "execution_count": 11,
   "metadata": {},
   "outputs": [
    {
     "name": "stderr",
     "output_type": "stream",
     "text": [
      "100%|██████████| 500000/500000 [00:43<00:00, 11475.76it/s]\n"
     ]
    }
   ],
   "source": [
    "Q = np.zeros((len(St),2))\n",
    "pi = compute_policy_by_Q(Q)\n",
    "nA = 2 # 2 состояния\n",
    "total_episodes=500000\n",
    "\n",
    "for n in tqdm(range(total_episodes)):\n",
    "    Q_learning_episode(env, pi, Q, nA, St2id, epsilon=0.03)\n",
    "    pi = compute_policy_by_Q(Q)"
   ]
  },
  {
   "cell_type": "code",
   "execution_count": 12,
   "metadata": {},
   "outputs": [
    {
     "name": "stdout",
     "output_type": "stream",
     "text": [
      "-0.13822045537872932\n"
     ]
    }
   ],
   "source": [
    "rew = get_mc_reward(pi, env, St2id)\n",
    "print(rew)"
   ]
  },
  {
   "cell_type": "code",
   "execution_count": 13,
   "metadata": {},
   "outputs": [],
   "source": [
    "param_grid = {'alpha': np.linspace(1e-3,3e-1,10), 'gamma': np.linspace(1e-3,3e-1,10)}"
   ]
  },
  {
   "cell_type": "code",
   "execution_count": 14,
   "metadata": {
    "scrolled": true
   },
   "outputs": [
    {
     "name": "stderr",
     "output_type": "stream",
     "text": [
      "100%|██████████| 10/10 [06:14<00:00, 37.42s/it]\n"
     ]
    }
   ],
   "source": [
    "nA = 2 # 2 состояния\n",
    "total_episodes=100000\n",
    "param_list=[]\n",
    "rew_list=[]\n",
    "for param in tqdm(ParameterSampler(param_grid, n_iter=10, random_state=123)):\n",
    "    Q = np.zeros((len(St),2))\n",
    "    pi = compute_policy_by_Q(Q)\n",
    "    for n in range(total_episodes):\n",
    "        Q_learning_episode(env, pi, Q, nA, St2id, param['alpha'], 0.03, param['gamma'])\n",
    "        pi = compute_policy_by_Q(Q)\n",
    "        \n",
    "    rew = get_mc_reward(pi, env, St2id)\n",
    "    rew_list.append(rew)\n",
    "    param_list.append(param)"
   ]
  },
  {
   "cell_type": "code",
   "execution_count": 15,
   "metadata": {},
   "outputs": [
    {
     "data": {
      "text/plain": [
       "{'gamma': 0.1338888888888889, 'alpha': 0.001}"
      ]
     },
     "execution_count": 15,
     "metadata": {},
     "output_type": "execute_result"
    }
   ],
   "source": [
    "param_list[np.argmax(rew_list)]"
   ]
  },
  {
   "cell_type": "code",
   "execution_count": 16,
   "metadata": {},
   "outputs": [
    {
     "name": "stderr",
     "output_type": "stream",
     "text": [
      "100%|██████████| 1000000/1000000 [05:58<00:00, 2787.34it/s]\n"
     ]
    }
   ],
   "source": [
    "Q = np.zeros((len(St),2))\n",
    "pi = compute_policy_by_Q(Q)\n",
    "nA = 2 # 2 состояния\n",
    "total_episodes=1000000\n",
    "cur_pos = 1\n",
    "border = np.linspace(100,total_episodes+1,11)\n",
    "history = []\n",
    "for n in tqdm(range(total_episodes)):\n",
    "    if border[cur_pos] < n:\n",
    "        rew = get_mc_reward(pi, env, St2id)\n",
    "        cur_pos += 1\n",
    "        history.append((n, rew))\n",
    "    Q_learning_episode(env, pi, Q, nA, St2id, epsilon=0.03, **param_list[np.argmax(rew_list)])\n",
    "    pi = compute_policy_by_Q(Q)\n",
    "rew = get_mc_reward(pi, env, St2id)\n",
    "history.append((total_episodes, rew))"
   ]
  },
  {
   "cell_type": "code",
   "execution_count": 17,
   "metadata": {},
   "outputs": [
    {
     "data": {
      "image/png": "[encoded data removed]",
      "text/plain": [
       "<Figure size 720x432 with 1 Axes>"
      ]
     },
     "metadata": {},
     "output_type": "display_data"
    }
   ],
   "source": [
    "plt.figure(figsize=(10,6))\n",
    "x, y = list(zip(*history))\n",
    "ax, = plt.plot(x,y, linestyle='-', marker='o', color='b')\n",
    "plt.xlabel('количество игр')\n",
    "plt.ylabel('награда')\n",
    "plt.show()"
   ]
  },
  {
   "cell_type": "code",
   "execution_count": 18,
   "metadata": {},
   "outputs": [
    {
     "data": {
      "text/plain": [
       "[(100091, -0.03980195219325795),\n",
       " (200081, -0.03421871054935592),\n",
       " (300071, -0.025154669585204046),\n",
       " (400061, -0.03356396428282601),\n",
       " (500051, -0.024038212047678927),\n",
       " (600041, -0.020902800761183917),\n",
       " (700031, -0.011580733787811553),\n",
       " (800021, -0.008928161657503717),\n",
       " (900011, -0.01247774453750707),\n",
       " (1000000, -0.012459829591907987)]"
      ]
     },
     "execution_count": 18,
     "metadata": {},
     "output_type": "execute_result"
    }
   ],
   "source": [
    "history"
   ]
  },
  {
   "cell_type": "markdown",
   "metadata": {},
   "source": [
    "### Часть вторая, удвоенная"
   ]
  },
  {
   "cell_type": "markdown",
   "metadata": {},
   "source": [
    "4. Реализуйте новый вариант блекджека на основе окружения Blackjack-v0 из OpenAI Gym, в котором разрешено удвоение ставки.\n",
    "5. Реализуйте метод обучения с подкреплением без модели для этого варианта, постройте графики, аналогичные п.2.\n"
   ]
  },
  {
   "cell_type": "code",
   "execution_count": 19,
   "metadata": {},
   "outputs": [],
   "source": [
    "from blackjack_double import BlackjackDoubleEnv"
   ]
  },
  {
   "cell_type": "code",
   "execution_count": 20,
   "metadata": {},
   "outputs": [],
   "source": [
    "double_env=BlackjackDoubleEnv()"
   ]
  },
  {
   "cell_type": "code",
   "execution_count": 21,
   "metadata": {},
   "outputs": [
    {
     "name": "stderr",
     "output_type": "stream",
     "text": [
      "100%|██████████| 500000/500000 [00:45<00:00, 11025.97it/s]\n"
     ]
    }
   ],
   "source": [
    "Q = np.zeros((len(St),3))\n",
    "pi = compute_policy_by_Q(Q)\n",
    "nA = 3 # 2 состояния\n",
    "total_episodes=500000\n",
    "\n",
    "for n in tqdm(range(total_episodes)):\n",
    "    Q_learning_episode(double_env, pi, Q, nA, St2id, epsilon=0.03)\n",
    "    pi = compute_policy_by_Q(Q)"
   ]
  },
  {
   "cell_type": "code",
   "execution_count": 22,
   "metadata": {},
   "outputs": [
    {
     "name": "stdout",
     "output_type": "stream",
     "text": [
      "-0.11927885286968828\n"
     ]
    }
   ],
   "source": [
    "# награда Q-learning double\n",
    "rew = get_mc_reward(pi, double_env, St2id)\n",
    "print(rew)"
   ]
  },
  {
   "cell_type": "code",
   "execution_count": 23,
   "metadata": {},
   "outputs": [
    {
     "name": "stderr",
     "output_type": "stream",
     "text": [
      "100%|██████████| 10/10 [06:12<00:00, 37.27s/it]\n"
     ]
    }
   ],
   "source": [
    "nA = 3 # 3 состояния\n",
    "total_episodes=100000\n",
    "param_list=[]\n",
    "rew_list=[]\n",
    "for param in tqdm(ParameterSampler(param_grid, n_iter=10, random_state=123)):\n",
    "    Q = np.zeros((len(St),3))\n",
    "    pi = compute_policy_by_Q(Q)\n",
    "    for n in range(total_episodes):\n",
    "        Q_learning_episode(double_env, pi, Q, nA, St2id, param['alpha'], 0.03, param['gamma'])\n",
    "        pi = compute_policy_by_Q(Q)\n",
    "        \n",
    "    rew = get_mc_reward(pi, double_env, St2id)\n",
    "    rew_list.append(rew)\n",
    "    param_list.append(param)"
   ]
  },
  {
   "cell_type": "code",
   "execution_count": 24,
   "metadata": {},
   "outputs": [
    {
     "name": "stderr",
     "output_type": "stream",
     "text": [
      "100%|██████████| 700000/700000 [05:26<00:00, 2146.51it/s] \n"
     ]
    }
   ],
   "source": [
    "Q = np.zeros((len(St),3))\n",
    "pi = compute_policy_by_Q(Q)\n",
    "nA = 3 # 2 состояния\n",
    "total_episodes=1000000\n",
    "cur_pos = 1\n",
    "border = np.linspace(100,total_episodes+1,11)\n",
    "history = []\n",
    "for n in tqdm(range(total_episodes)):\n",
    "    if border[cur_pos] < n:\n",
    "        rew = get_mc_reward(pi, double_env, St2id)\n",
    "        cur_pos += 1\n",
    "        history.append((n, rew))\n",
    "    Q_learning_episode(double_env, pi, Q, nA, St2id, epsilon=0.03, **param_list[np.argmax(rew_list)])\n",
    "    pi = compute_policy_by_Q(Q)\n",
    "rew = get_mc_reward(pi, double_env, St2id)\n",
    "history.append((total_episodes, rew))"
   ]
  },
  {
   "cell_type": "code",
   "execution_count": 25,
   "metadata": {},
   "outputs": [
    {
     "data": {
      "image/png": "[encoded data removed]",
      "text/plain": [
       "<Figure size 720x432 with 1 Axes>"
      ]
     },
     "metadata": {},
     "output_type": "display_data"
    }
   ],
   "source": [
    "plt.figure(figsize=(10,6))\n",
    "x, y = list(zip(*history))\n",
    "ax, = plt.plot(x,y, linestyle='-', marker='o', color='b')\n",
    "plt.xlabel('количество игр')\n",
    "plt.ylabel('награда')\n",
    "plt.show()"
   ]
  },
  {
   "cell_type": "code",
   "execution_count": 26,
   "metadata": {},
   "outputs": [
    {
     "data": {
      "text/plain": [
       "[(70091, -0.05638067293782919),\n",
       " (140081, -0.03168040395165768),\n",
       " (210071, -0.03307872576155887),\n",
       " (280061, -0.03423363410170962),\n",
       " (350051, -0.038673769227600366),\n",
       " (420041, -0.04761428011507084),\n",
       " (490031, -0.023824735285776288),\n",
       " (560021, -0.04476973102243083),\n",
       " (630011, -0.0406914219263315),\n",
       " (700000, -0.032294045018103526)]"
      ]
     },
     "execution_count": 26,
     "metadata": {},
     "output_type": "execute_result"
    }
   ],
   "source": [
    "history"
   ]
  },
  {
   "cell_type": "markdown",
   "metadata": {},
   "source": [
    "### Часть третья, в главной роли — Дастин Хоффман"
   ]
  },
  {
   "cell_type": "markdown",
   "metadata": {},
   "source": [
    "4. Реализуйте вариант окружения Blackjack-v0 из предыдущей части (с удвоением), в котором игрок имеет возможность “считать карты” в колоде. Это можно сделать разными способами; возможно, вам поможет статья википедии о блекджеке (а возможно, и нет).\n",
    "5. Реализуйте метод обучения с подкреплением без модели для этого варианта, постройте графики, аналогичные п.2."
   ]
  },
  {
   "cell_type": "code",
   "execution_count": 27,
   "metadata": {},
   "outputs": [],
   "source": [
    "from blackjack_count_double import BlackjackDoubleCountEnv"
   ]
  },
  {
   "cell_type": "code",
   "execution_count": 28,
   "metadata": {},
   "outputs": [],
   "source": [
    "double_env_count = BlackjackDoubleCountEnv()"
   ]
  },
  {
   "cell_type": "code",
   "execution_count": 29,
   "metadata": {},
   "outputs": [],
   "source": [
    "# состояния\n",
    "St = list(product(range(4,32),range(1,11),(False,True), range(22*4+1)))\n",
    "St2id = {}\n",
    "for i, st in enumerate(St):\n",
    "    St2id[st]=i"
   ]
  },
  {
   "cell_type": "code",
   "execution_count": 30,
   "metadata": {},
   "outputs": [
    {
     "name": "stderr",
     "output_type": "stream",
     "text": [
      "100%|██████████| 10/10 [12:22<00:00, 74.27s/it]\n"
     ]
    }
   ],
   "source": [
    "nA = 3 # 3 состояния\n",
    "total_episodes=100000\n",
    "param_list=[]\n",
    "rew_list=[]\n",
    "for param in tqdm(ParameterSampler(param_grid, n_iter=10, random_state=123)):\n",
    "    Q = np.zeros((len(St),3))\n",
    "    pi = compute_policy_by_Q(Q)\n",
    "    for n in range(total_episodes):\n",
    "        Q_learning_episode(double_env_count, pi, Q, nA, St2id, param['alpha'], 0.03, param['gamma'])\n",
    "        pi = compute_policy_by_Q(Q)\n",
    "        \n",
    "    rew = get_mc_reward(pi, double_env_count, St2id)\n",
    "    rew_list.append(rew)\n",
    "    param_list.append(param)"
   ]
  },
  {
   "cell_type": "code",
   "execution_count": 31,
   "metadata": {},
   "outputs": [
    {
     "data": {
      "text/plain": [
       "[-0.10319758396953709,\n",
       " -0.09087547375100105,\n",
       " -0.08693665215672382,\n",
       " -0.09430742814308485,\n",
       " -0.10418900286879178,\n",
       " -0.11789708836651433,\n",
       " -0.09654212257695664,\n",
       " -0.0927890420454792,\n",
       " -0.09083619968728789,\n",
       " -0.10792768170143514]"
      ]
     },
     "execution_count": 31,
     "metadata": {},
     "output_type": "execute_result"
    }
   ],
   "source": [
    "rew_list"
   ]
  },
  {
   "cell_type": "code",
   "execution_count": 33,
   "metadata": {},
   "outputs": [
    {
     "name": "stderr",
     "output_type": "stream",
     "text": [
      "100%|██████████| 1000000/1000000 [11:54<00:00, 1400.23it/s] \n"
     ]
    }
   ],
   "source": [
    "Q = np.zeros((len(St),3))\n",
    "pi = compute_policy_by_Q(Q)\n",
    "nA = 3 # 2 состояния\n",
    "total_episodes=1000000\n",
    "cur_pos = 1\n",
    "border = np.linspace(100,total_episodes+1,11)\n",
    "history = []\n",
    "for n in tqdm(range(total_episodes)):\n",
    "    if border[cur_pos] < n:\n",
    "        rew = get_mc_reward(pi, double_env_count, St2id)\n",
    "        cur_pos += 1\n",
    "        history.append((n, rew))\n",
    "    Q_learning_episode(double_env_count, pi, Q, nA, St2id, epsilon=0.03, **param_list[np.argmax(rew_list)])\n",
    "    pi = compute_policy_by_Q(Q)\n",
    "rew = get_mc_reward(pi, double_env_count, St2id)\n",
    "history.append((total_episodes, rew))"
   ]
  },
  {
   "cell_type": "code",
   "execution_count": 34,
   "metadata": {},
   "outputs": [
    {
     "data": {
      "image/png": "[encoded data removed]",
      "text/plain": [
       "<Figure size 720x432 with 1 Axes>"
      ]
     },
     "metadata": {},
     "output_type": "display_data"
    }
   ],
   "source": [
    "plt.figure(figsize=(10,6))\n",
    "x, y = list(zip(*history))\n",
    "ax, = plt.plot(x,y, linestyle='-', marker='o', color='b')\n",
    "plt.xlabel('количество игр')\n",
    "plt.ylabel('награда')\n",
    "plt.show()"
   ]
  },
  {
   "cell_type": "code",
   "execution_count": 35,
   "metadata": {},
   "outputs": [
    {
     "data": {
      "text/plain": [
       "[(100091, -0.10531121565667383),\n",
       " (200081, -0.08630145384290962),\n",
       " (300071, -0.08192507825500965),\n",
       " (400061, -0.09002699935760465),\n",
       " (500051, -0.093071316777297),\n",
       " (600041, -0.0767338733951285),\n",
       " (700031, -0.07779035066693227),\n",
       " (800021, -0.07600215752448071),\n",
       " (900011, -0.06989267830664456),\n",
       " (1000000, -0.08169070888617959)]"
      ]
     },
     "execution_count": 35,
     "metadata": {},
     "output_type": "execute_result"
    }
   ],
   "source": [
    "history"
   ]
  },
  {
   "cell_type": "code",
   "execution_count": null,
   "metadata": {},
   "outputs": [],
   "source": []
  }
 ],
 "metadata": {
  "kernelspec": {
   "display_name": "Python 3",
   "language": "python",
   "name": "python3"
  },
  "language_info": {
   "codemirror_mode": {
    "name": "ipython",
    "version": 3
   },
   "file_extension": ".py",
   "mimetype": "text/x-python",
   "name": "python",
   "nbconvert_exporter": "python",
   "pygments_lexer": "ipython3",
   "version": "3.8.5"
  }
 },
 "nbformat": 4,
 "nbformat_minor": 4
}
