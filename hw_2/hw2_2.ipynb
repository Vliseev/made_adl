{
  "nbformat": 4,
  "nbformat_minor": 0,
  "metadata": {
    "kernelspec": {
      "display_name": "Python 3",
      "language": "python",
      "name": "python3"
    },
    "language_info": {
      "codemirror_mode": {
        "name": "ipython",
        "version": 3
      },
      "file_extension": ".py",
      "mimetype": "text/x-python",
      "name": "python",
      "nbconvert_exporter": "python",
      "pygments_lexer": "ipython3",
      "version": "3.8.5"
    },
    "colab": {
      "name": "hw2_2.ipynb",
      "provenance": [],
      "collapsed_sections": []
    },
    "accelerator": "GPU",
    "widgets": {
      "application/vnd.jupyter.widget-state+json": {
        "2213f77c914d49428c2a16f7776d4dc6": {
          "model_module": "@jupyter-widgets/controls",
          "model_name": "HBoxModel",
          "state": {
            "_view_name": "HBoxView",
            "_dom_classes": [],
            "_model_name": "HBoxModel",
            "_view_module": "@jupyter-widgets/controls",
            "_model_module_version": "1.5.0",
            "_view_count": null,
            "_view_module_version": "1.5.0",
            "box_style": "",
            "layout": "IPY_MODEL_63df15579f3c4ab5a2b86bf081c982b2",
            "_model_module": "@jupyter-widgets/controls",
            "children": [
              "IPY_MODEL_eca5ef2136154b7dae340df31fbc00b5",
              "IPY_MODEL_1300cf4894fc427c915ec1fbe7e967ce"
            ]
          }
        },
        "63df15579f3c4ab5a2b86bf081c982b2": {
          "model_module": "@jupyter-widgets/base",
          "model_name": "LayoutModel",
          "state": {
            "_view_name": "LayoutView",
            "grid_template_rows": null,
            "right": null,
            "justify_content": null,
            "_view_module": "@jupyter-widgets/base",
            "overflow": null,
            "_model_module_version": "1.2.0",
            "_view_count": null,
            "flex_flow": null,
            "width": null,
            "min_width": null,
            "border": null,
            "align_items": null,
            "bottom": null,
            "_model_module": "@jupyter-widgets/base",
            "top": null,
            "grid_column": null,
            "overflow_y": null,
            "overflow_x": null,
            "grid_auto_flow": null,
            "grid_area": null,
            "grid_template_columns": null,
            "flex": null,
            "_model_name": "LayoutModel",
            "justify_items": null,
            "grid_row": null,
            "max_height": null,
            "align_content": null,
            "visibility": null,
            "align_self": null,
            "height": null,
            "min_height": null,
            "padding": null,
            "grid_auto_rows": null,
            "grid_gap": null,
            "max_width": null,
            "order": null,
            "_view_module_version": "1.2.0",
            "grid_template_areas": null,
            "object_position": null,
            "object_fit": null,
            "grid_auto_columns": null,
            "margin": null,
            "display": null,
            "left": null
          }
        },
        "eca5ef2136154b7dae340df31fbc00b5": {
          "model_module": "@jupyter-widgets/controls",
          "model_name": "FloatProgressModel",
          "state": {
            "_view_name": "ProgressView",
            "style": "IPY_MODEL_717a74cc7afa4d97a61e2c952e273e23",
            "_dom_classes": [],
            "description": "100%",
            "_model_name": "FloatProgressModel",
            "bar_style": "success",
            "max": 400000,
            "_view_module": "@jupyter-widgets/controls",
            "_model_module_version": "1.5.0",
            "value": 400000,
            "_view_count": null,
            "_view_module_version": "1.5.0",
            "orientation": "horizontal",
            "min": 0,
            "description_tooltip": null,
            "_model_module": "@jupyter-widgets/controls",
            "layout": "IPY_MODEL_7e44a99244b74cf0971a7412658fe339"
          }
        },
        "1300cf4894fc427c915ec1fbe7e967ce": {
          "model_module": "@jupyter-widgets/controls",
          "model_name": "HTMLModel",
          "state": {
            "_view_name": "HTMLView",
            "style": "IPY_MODEL_69863d3eb21f41069727f6c6a4ab79d3",
            "_dom_classes": [],
            "description": "",
            "_model_name": "HTMLModel",
            "placeholder": "​",
            "_view_module": "@jupyter-widgets/controls",
            "_model_module_version": "1.5.0",
            "value": " 400000/400000 [42:18&lt;00:00, 157.56it/s]",
            "_view_count": null,
            "_view_module_version": "1.5.0",
            "description_tooltip": null,
            "_model_module": "@jupyter-widgets/controls",
            "layout": "IPY_MODEL_882aba4234864f24ba8041482607b19c"
          }
        },
        "717a74cc7afa4d97a61e2c952e273e23": {
          "model_module": "@jupyter-widgets/controls",
          "model_name": "ProgressStyleModel",
          "state": {
            "_view_name": "StyleView",
            "_model_name": "ProgressStyleModel",
            "description_width": "initial",
            "_view_module": "@jupyter-widgets/base",
            "_model_module_version": "1.5.0",
            "_view_count": null,
            "_view_module_version": "1.2.0",
            "bar_color": null,
            "_model_module": "@jupyter-widgets/controls"
          }
        },
        "7e44a99244b74cf0971a7412658fe339": {
          "model_module": "@jupyter-widgets/base",
          "model_name": "LayoutModel",
          "state": {
            "_view_name": "LayoutView",
            "grid_template_rows": null,
            "right": null,
            "justify_content": null,
            "_view_module": "@jupyter-widgets/base",
            "overflow": null,
            "_model_module_version": "1.2.0",
            "_view_count": null,
            "flex_flow": null,
            "width": null,
            "min_width": null,
            "border": null,
            "align_items": null,
            "bottom": null,
            "_model_module": "@jupyter-widgets/base",
            "top": null,
            "grid_column": null,
            "overflow_y": null,
            "overflow_x": null,
            "grid_auto_flow": null,
            "grid_area": null,
            "grid_template_columns": null,
            "flex": null,
            "_model_name": "LayoutModel",
            "justify_items": null,
            "grid_row": null,
            "max_height": null,
            "align_content": null,
            "visibility": null,
            "align_self": null,
            "height": null,
            "min_height": null,
            "padding": null,
            "grid_auto_rows": null,
            "grid_gap": null,
            "max_width": null,
            "order": null,
            "_view_module_version": "1.2.0",
            "grid_template_areas": null,
            "object_position": null,
            "object_fit": null,
            "grid_auto_columns": null,
            "margin": null,
            "display": null,
            "left": null
          }
        },
        "69863d3eb21f41069727f6c6a4ab79d3": {
          "model_module": "@jupyter-widgets/controls",
          "model_name": "DescriptionStyleModel",
          "state": {
            "_view_name": "StyleView",
            "_model_name": "DescriptionStyleModel",
            "description_width": "",
            "_view_module": "@jupyter-widgets/base",
            "_model_module_version": "1.5.0",
            "_view_count": null,
            "_view_module_version": "1.2.0",
            "_model_module": "@jupyter-widgets/controls"
          }
        },
        "882aba4234864f24ba8041482607b19c": {
          "model_module": "@jupyter-widgets/base",
          "model_name": "LayoutModel",
          "state": {
            "_view_name": "LayoutView",
            "grid_template_rows": null,
            "right": null,
            "justify_content": null,
            "_view_module": "@jupyter-widgets/base",
            "overflow": null,
            "_model_module_version": "1.2.0",
            "_view_count": null,
            "flex_flow": null,
            "width": null,
            "min_width": null,
            "border": null,
            "align_items": null,
            "bottom": null,
            "_model_module": "@jupyter-widgets/base",
            "top": null,
            "grid_column": null,
            "overflow_y": null,
            "overflow_x": null,
            "grid_auto_flow": null,
            "grid_area": null,
            "grid_template_columns": null,
            "flex": null,
            "_model_name": "LayoutModel",
            "justify_items": null,
            "grid_row": null,
            "max_height": null,
            "align_content": null,
            "visibility": null,
            "align_self": null,
            "height": null,
            "min_height": null,
            "padding": null,
            "grid_auto_rows": null,
            "grid_gap": null,
            "max_width": null,
            "order": null,
            "_view_module_version": "1.2.0",
            "grid_template_areas": null,
            "object_position": null,
            "object_fit": null,
            "grid_auto_columns": null,
            "margin": null,
            "display": null,
            "left": null
          }
        }
      }
    }
  },
  "cells": [
    {
      "cell_type": "code",
      "metadata": {
        "id": "Mw7pt5ZmH8om"
      },
      "source": [
        "from pathlib import Path\n",
        "\n",
        "import matplotlib.pyplot as plt\n",
        "import numpy as np\n",
        "import seaborn as sns\n",
        "import tqdm\n",
        "\n",
        "from tic_tac_toe import TicTacToe, TikTakCounter\n",
        "from dqn_agent import DQNTrainer, DQN1"
      ],
      "execution_count": 1,
      "outputs": []
    },
    {
      "cell_type": "markdown",
      "metadata": {
        "id": "Ij5LrkmFH8ot"
      },
      "source": [
        "Реализуйте DQN с нейронной сетью, обучите стратегии крестиков и ноликов. Замечание: скорее всего, experience replay потребуется сразу же."
      ]
    },
    {
      "cell_type": "markdown",
      "metadata": {
        "id": "fOyqn_37H8ov"
      },
      "source": [
        "Стратегия реализована на основе примера из лекции и [пирмера из pytorch](https://pytorch.org/tutorials/intermediate/reinforcement_q_learning.html)"
      ]
    },
    {
      "cell_type": "code",
      "metadata": {
        "id": "9WM7cR-CH8ov",
        "colab": {
          "base_uri": "https://localhost:8080/",
          "height": 1000,
          "referenced_widgets": [
            "2213f77c914d49428c2a16f7776d4dc6",
            "63df15579f3c4ab5a2b86bf081c982b2",
            "eca5ef2136154b7dae340df31fbc00b5",
            "1300cf4894fc427c915ec1fbe7e967ce",
            "717a74cc7afa4d97a61e2c952e273e23",
            "7e44a99244b74cf0971a7412658fe339",
            "69863d3eb21f41069727f6c6a4ab79d3",
            "882aba4234864f24ba8041482607b19c"
          ]
        },
        "outputId": "b406c116-2567-460e-f4fa-8056cc2ba029"
      },
      "source": [
        "env = TicTacToe(4, 4, 3)\n",
        "trainer = DQNTrainer(env, memory_size=10_000, batch_size=128)\n",
        "counter = trainer.train(1, env, 800_000)"
      ],
      "execution_count": 4,
      "outputs": [
        {
          "output_type": "display_data",
          "data": {
            "application/vnd.jupyter.widget-view+json": {
              "model_id": "2213f77c914d49428c2a16f7776d4dc6",
              "version_minor": 0,
              "version_major": 2
            },
            "text/plain": [
              "HBox(children=(FloatProgress(value=0.0, max=400000.0), HTML(value='')))"
            ]
          },
          "metadata": {
            "tags": []
          }
        },
        {
          "output_type": "stream",
          "text": [
            "cross=101 naughts=0 tot=1669 draw=67 invalid=1501\n",
            "cross=205 naughts=0 tot=3344 draw=138 invalid=3001\n",
            "cross=319 naughts=0 tot=5020 draw=193 invalid=4508\n",
            "cross=435 naughts=0 tot=6706 draw=259 invalid=6012\n",
            "cross=540 naughts=0 tot=8375 draw=318 invalid=7517\n",
            "cross=639 naughts=0 tot=10044 draw=392 invalid=9013\n",
            "cross=735 naughts=0 tot=11706 draw=462 invalid=10509\n",
            "cross=838 naughts=0 tot=13354 draw=519 invalid=11997\n",
            "cross=923 naughts=0 tot=15025 draw=597 invalid=13505\n",
            "cross=1007 naughts=0 tot=16693 draw=668 invalid=15018\n",
            "cross=1103 naughts=0 tot=18341 draw=735 invalid=16503\n",
            "cross=1216 naughts=0 tot=20020 draw=803 invalid=18001\n",
            "cross=1305 naughts=0 tot=21707 draw=873 invalid=19529\n",
            "cross=1415 naughts=0 tot=23379 draw=934 invalid=21030\n",
            "cross=1503 naughts=0 tot=25039 draw=1000 invalid=22536\n",
            "cross=1609 naughts=0 tot=26719 draw=1063 invalid=24047\n",
            "cross=1712 naughts=0 tot=28394 draw=1121 invalid=25561\n",
            "cross=1803 naughts=0 tot=30058 draw=1171 invalid=27084\n",
            "cross=1903 naughts=0 tot=31727 draw=1230 invalid=28594\n",
            "cross=1993 naughts=0 tot=33380 draw=1287 invalid=30100\n",
            "cross=2090 naughts=0 tot=35010 draw=1364 invalid=31556\n",
            "cross=2197 naughts=0 tot=36663 draw=1445 invalid=33021\n",
            "cross=2298 naughts=0 tot=38332 draw=1514 invalid=34520\n",
            "cross=2402 naughts=0 tot=40004 draw=1576 invalid=36026\n",
            "cross=2495 naughts=0 tot=41677 draw=1632 invalid=37550\n",
            "cross=2586 naughts=0 tot=43341 draw=1688 invalid=39067\n",
            "cross=2673 naughts=0 tot=44993 draw=1748 invalid=40572\n",
            "cross=2787 naughts=0 tot=46674 draw=1801 invalid=42086\n",
            "cross=2891 naughts=0 tot=48333 draw=1865 invalid=43577\n",
            "cross=2981 naughts=0 tot=49992 draw=1926 invalid=45085\n",
            "cross=3086 naughts=0 tot=51677 draw=1989 invalid=46602\n",
            "cross=3166 naughts=0 tot=53350 draw=2057 invalid=48127\n",
            "cross=3253 naughts=0 tot=55039 draw=2126 invalid=49660\n",
            "cross=3352 naughts=0 tot=56688 draw=2190 invalid=51146\n",
            "cross=3450 naughts=0 tot=58355 draw=2246 invalid=52659\n",
            "cross=3541 naughts=0 tot=60035 draw=2303 invalid=54191\n",
            "cross=3627 naughts=0 tot=61699 draw=2369 invalid=55703\n",
            "cross=3711 naughts=0 tot=63373 draw=2441 invalid=57221\n",
            "cross=3803 naughts=0 tot=65041 draw=2511 invalid=58727\n",
            "cross=3924 naughts=0 tot=66688 draw=2563 invalid=60201\n",
            "cross=3998 naughts=0 tot=68342 draw=2624 invalid=61720\n",
            "cross=4090 naughts=0 tot=69998 draw=2682 invalid=63226\n",
            "cross=4184 naughts=0 tot=71662 draw=2739 invalid=64739\n",
            "cross=4287 naughts=0 tot=73311 draw=2802 invalid=66222\n",
            "cross=4378 naughts=0 tot=74986 draw=2872 invalid=67736\n",
            "cross=4479 naughts=0 tot=76659 draw=2939 invalid=69241\n",
            "cross=4572 naughts=0 tot=78313 draw=3006 invalid=70735\n",
            "cross=4665 naughts=0 tot=79972 draw=3074 invalid=72233\n",
            "cross=4762 naughts=0 tot=81634 draw=3134 invalid=73738\n",
            "cross=4871 naughts=0 tot=83295 draw=3198 invalid=75226\n",
            "cross=4972 naughts=0 tot=84949 draw=3250 invalid=76727\n",
            "cross=5076 naughts=0 tot=86594 draw=3295 invalid=78223\n",
            "cross=5178 naughts=0 tot=88246 draw=3350 invalid=79718\n",
            "cross=5271 naughts=0 tot=89899 draw=3412 invalid=81216\n",
            "cross=5356 naughts=0 tot=91593 draw=3472 invalid=82765\n",
            "cross=5447 naughts=0 tot=93275 draw=3540 invalid=84288\n",
            "cross=5550 naughts=0 tot=94949 draw=3600 invalid=85799\n",
            "cross=5642 naughts=0 tot=96618 draw=3653 invalid=87323\n",
            "cross=5741 naughts=0 tot=98288 draw=3720 invalid=88827\n",
            "cross=5832 naughts=0 tot=99960 draw=3781 invalid=90347\n",
            "cross=5928 naughts=0 tot=101630 draw=3837 invalid=91865\n",
            "cross=6029 naughts=0 tot=103291 draw=3899 invalid=93363\n",
            "cross=6122 naughts=0 tot=104959 draw=3973 invalid=94864\n",
            "cross=6216 naughts=0 tot=106634 draw=4040 invalid=96378\n",
            "cross=6324 naughts=0 tot=108289 draw=4112 invalid=97853\n",
            "cross=6428 naughts=0 tot=109956 draw=4158 invalid=99370\n",
            "cross=6526 naughts=0 tot=111637 draw=4218 invalid=100893\n",
            "cross=6645 naughts=0 tot=113313 draw=4281 invalid=102387\n",
            "cross=6729 naughts=0 tot=115010 draw=4335 invalid=103946\n",
            "cross=6826 naughts=0 tot=116674 draw=4402 invalid=105446\n",
            "cross=6922 naughts=0 tot=118363 draw=4464 invalid=106977\n",
            "cross=7016 naughts=0 tot=120013 draw=4522 invalid=108475\n",
            "cross=7127 naughts=0 tot=121674 draw=4592 invalid=109955\n",
            "cross=7203 naughts=0 tot=123345 draw=4652 invalid=111490\n",
            "cross=7301 naughts=0 tot=125025 draw=4716 invalid=113008\n",
            "cross=7398 naughts=0 tot=126684 draw=4783 invalid=114503\n",
            "cross=7487 naughts=0 tot=128348 draw=4857 invalid=116004\n",
            "cross=7579 naughts=0 tot=130032 draw=4935 invalid=117518\n",
            "cross=7679 naughts=0 tot=131711 draw=4995 invalid=119037\n",
            "cross=7783 naughts=0 tot=133366 draw=5057 invalid=120526\n",
            "\n"
          ],
          "name": "stdout"
        }
      ]
    },
    {
      "cell_type": "code",
      "metadata": {
        "id": "sfLrC2gbH8ov",
        "colab": {
          "base_uri": "https://localhost:8080/",
          "height": 388
        },
        "outputId": "0431ee41-bc35-45cb-8e9c-db0d1ec3f87b"
      },
      "source": [
        "plt.figure(figsize=(10,6))\n",
        "x, y = counter.tot_list,  counter.cross_list\n",
        "ax1, = plt.plot(x,y, linestyle='-')\n",
        "\n",
        "x, y = counter.tot_list,  counter.draw_list\n",
        "ax2, = plt.plot(x,y, linestyle='-')\n",
        "\n",
        "x, y = counter.tot_list,  counter.naughts_list\n",
        "ax3, = plt.plot(x,y, linestyle='-')\n",
        "\n",
        "\n",
        "plt.legend([ax1, ax2, ax3], ['победы крестиков', 'ничья', 'победа ноликов'])\n",
        "plt.xlabel('количество игр')\n",
        "plt.show()"
      ],
      "execution_count": 10,
      "outputs": [
        {
          "output_type": "display_data",
          "data": {
            "image/png": "[encoded data removed]",
            "text/plain": [
              "<Figure size 720x432 with 1 Axes>"
            ]
          },
          "metadata": {
            "tags": [],
            "needs_background": "light"
          }
        }
      ]
    },
    {
      "cell_type": "code",
      "metadata": {
        "id": "w5dVifk5dNPr"
      },
      "source": [
        "invalid_perc = [float(inv)/float(tot) for inv, tot in zip(counter.invalid_list, counter.tot_list)]"
      ],
      "execution_count": 9,
      "outputs": []
    },
    {
      "cell_type": "code",
      "metadata": {
        "colab": {
          "base_uri": "https://localhost:8080/",
          "height": 388
        },
        "id": "YZBmQzKGdGuE",
        "outputId": "9f0f8a9d-2ce3-478e-bd4a-03ca4c2fd5bd"
      },
      "source": [
        "plt.figure(figsize=(10,6))\n",
        "x, y = counter.tot_list,  invalid_perc\n",
        "ax1, = plt.plot(x,y, linestyle='-')\n",
        "\n",
        "plt.legend([ax1], ['процент ошибок в игре'])\n",
        "plt.xlabel('количество игр')\n",
        "plt.show()"
      ],
      "execution_count": 11,
      "outputs": [
        {
          "output_type": "display_data",
          "data": {
            "image/png": "[encoded data removed]",
            "text/plain": [
              "<Figure size 720x432 with 1 Axes>"
            ]
          },
          "metadata": {
            "tags": [],
            "needs_background": "light"
          }
        }
      ]
    },
    {
      "cell_type": "markdown",
      "metadata": {
        "id": "KXSKfCOWd8TM"
      },
      "source": [
        "Если dqn - агент не совершает ошибочного хода, то он выигрывает. Основную проблемы составляют ошибочные ходы, из графика видно, что их процент составляет достаточно большое количеств. Необходимо больше шагов обучения для их уменьшения."
      ]
    }
  ]
}