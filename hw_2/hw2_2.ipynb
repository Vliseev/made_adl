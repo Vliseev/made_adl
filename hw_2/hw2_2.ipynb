{
  "nbformat": 4,
  "nbformat_minor": 0,
  "metadata": {
    "accelerator": "GPU",
    "colab": {
      "name": "hw2_2.ipynb",
      "provenance": [],
      "collapsed_sections": []
    },
    "kernelspec": {
      "display_name": "Python 3",
      "language": "python",
      "name": "python3"
    },
    "language_info": {
      "codemirror_mode": {
        "name": "ipython",
        "version": 3
      },
      "file_extension": ".py",
      "mimetype": "text/x-python",
      "name": "python",
      "nbconvert_exporter": "python",
      "pygments_lexer": "ipython3",
      "version": "3.8.5"
    },
    "widgets": {
      "application/vnd.jupyter.widget-state+json": {
        "1d377e06d03d4b63aa6ccf2a563a33ce": {
          "model_module": "@jupyter-widgets/controls",
          "model_name": "HBoxModel",
          "state": {
            "_view_name": "HBoxView",
            "_dom_classes": [],
            "_model_name": "HBoxModel",
            "_view_module": "@jupyter-widgets/controls",
            "_model_module_version": "1.5.0",
            "_view_count": null,
            "_view_module_version": "1.5.0",
            "box_style": "",
            "layout": "IPY_MODEL_3026742090414e21b3bdfec47e56d081",
            "_model_module": "@jupyter-widgets/controls",
            "children": [
              "IPY_MODEL_9d44ae991eba4b14912c62647c951caf",
              "IPY_MODEL_a6778c198b364797bf6bdcf844c2e2ca"
            ]
          }
        },
        "3026742090414e21b3bdfec47e56d081": {
          "model_module": "@jupyter-widgets/base",
          "model_name": "LayoutModel",
          "state": {
            "_view_name": "LayoutView",
            "grid_template_rows": null,
            "right": null,
            "justify_content": null,
            "_view_module": "@jupyter-widgets/base",
            "overflow": null,
            "_model_module_version": "1.2.0",
            "_view_count": null,
            "flex_flow": null,
            "width": null,
            "min_width": null,
            "border": null,
            "align_items": null,
            "bottom": null,
            "_model_module": "@jupyter-widgets/base",
            "top": null,
            "grid_column": null,
            "overflow_y": null,
            "overflow_x": null,
            "grid_auto_flow": null,
            "grid_area": null,
            "grid_template_columns": null,
            "flex": null,
            "_model_name": "LayoutModel",
            "justify_items": null,
            "grid_row": null,
            "max_height": null,
            "align_content": null,
            "visibility": null,
            "align_self": null,
            "height": null,
            "min_height": null,
            "padding": null,
            "grid_auto_rows": null,
            "grid_gap": null,
            "max_width": null,
            "order": null,
            "_view_module_version": "1.2.0",
            "grid_template_areas": null,
            "object_position": null,
            "object_fit": null,
            "grid_auto_columns": null,
            "margin": null,
            "display": null,
            "left": null
          }
        },
        "9d44ae991eba4b14912c62647c951caf": {
          "model_module": "@jupyter-widgets/controls",
          "model_name": "FloatProgressModel",
          "state": {
            "_view_name": "ProgressView",
            "style": "IPY_MODEL_523089b978e44acc92b4a9431dcbf5ab",
            "_dom_classes": [],
            "description": "100%",
            "_model_name": "FloatProgressModel",
            "bar_style": "success",
            "max": 100000,
            "_view_module": "@jupyter-widgets/controls",
            "_model_module_version": "1.5.0",
            "value": 100000,
            "_view_count": null,
            "_view_module_version": "1.5.0",
            "orientation": "horizontal",
            "min": 0,
            "description_tooltip": null,
            "_model_module": "@jupyter-widgets/controls",
            "layout": "IPY_MODEL_a636db9e9be64fa8842f98fb442fefc5"
          }
        },
        "a6778c198b364797bf6bdcf844c2e2ca": {
          "model_module": "@jupyter-widgets/controls",
          "model_name": "HTMLModel",
          "state": {
            "_view_name": "HTMLView",
            "style": "IPY_MODEL_6651cafb8ad64a2084e514d745214d8c",
            "_dom_classes": [],
            "description": "",
            "_model_name": "HTMLModel",
            "placeholder": "​",
            "_view_module": "@jupyter-widgets/controls",
            "_model_module_version": "1.5.0",
            "value": " 100000/100000 [08:49&lt;00:00, 188.96it/s]",
            "_view_count": null,
            "_view_module_version": "1.5.0",
            "description_tooltip": null,
            "_model_module": "@jupyter-widgets/controls",
            "layout": "IPY_MODEL_d8c5efc938334033ba8628d561cf725c"
          }
        },
        "523089b978e44acc92b4a9431dcbf5ab": {
          "model_module": "@jupyter-widgets/controls",
          "model_name": "ProgressStyleModel",
          "state": {
            "_view_name": "StyleView",
            "_model_name": "ProgressStyleModel",
            "description_width": "initial",
            "_view_module": "@jupyter-widgets/base",
            "_model_module_version": "1.5.0",
            "_view_count": null,
            "_view_module_version": "1.2.0",
            "bar_color": null,
            "_model_module": "@jupyter-widgets/controls"
          }
        },
        "a636db9e9be64fa8842f98fb442fefc5": {
          "model_module": "@jupyter-widgets/base",
          "model_name": "LayoutModel",
          "state": {
            "_view_name": "LayoutView",
            "grid_template_rows": null,
            "right": null,
            "justify_content": null,
            "_view_module": "@jupyter-widgets/base",
            "overflow": null,
            "_model_module_version": "1.2.0",
            "_view_count": null,
            "flex_flow": null,
            "width": null,
            "min_width": null,
            "border": null,
            "align_items": null,
            "bottom": null,
            "_model_module": "@jupyter-widgets/base",
            "top": null,
            "grid_column": null,
            "overflow_y": null,
            "overflow_x": null,
            "grid_auto_flow": null,
            "grid_area": null,
            "grid_template_columns": null,
            "flex": null,
            "_model_name": "LayoutModel",
            "justify_items": null,
            "grid_row": null,
            "max_height": null,
            "align_content": null,
            "visibility": null,
            "align_self": null,
            "height": null,
            "min_height": null,
            "padding": null,
            "grid_auto_rows": null,
            "grid_gap": null,
            "max_width": null,
            "order": null,
            "_view_module_version": "1.2.0",
            "grid_template_areas": null,
            "object_position": null,
            "object_fit": null,
            "grid_auto_columns": null,
            "margin": null,
            "display": null,
            "left": null
          }
        },
        "6651cafb8ad64a2084e514d745214d8c": {
          "model_module": "@jupyter-widgets/controls",
          "model_name": "DescriptionStyleModel",
          "state": {
            "_view_name": "StyleView",
            "_model_name": "DescriptionStyleModel",
            "description_width": "",
            "_view_module": "@jupyter-widgets/base",
            "_model_module_version": "1.5.0",
            "_view_count": null,
            "_view_module_version": "1.2.0",
            "_model_module": "@jupyter-widgets/controls"
          }
        },
        "d8c5efc938334033ba8628d561cf725c": {
          "model_module": "@jupyter-widgets/base",
          "model_name": "LayoutModel",
          "state": {
            "_view_name": "LayoutView",
            "grid_template_rows": null,
            "right": null,
            "justify_content": null,
            "_view_module": "@jupyter-widgets/base",
            "overflow": null,
            "_model_module_version": "1.2.0",
            "_view_count": null,
            "flex_flow": null,
            "width": null,
            "min_width": null,
            "border": null,
            "align_items": null,
            "bottom": null,
            "_model_module": "@jupyter-widgets/base",
            "top": null,
            "grid_column": null,
            "overflow_y": null,
            "overflow_x": null,
            "grid_auto_flow": null,
            "grid_area": null,
            "grid_template_columns": null,
            "flex": null,
            "_model_name": "LayoutModel",
            "justify_items": null,
            "grid_row": null,
            "max_height": null,
            "align_content": null,
            "visibility": null,
            "align_self": null,
            "height": null,
            "min_height": null,
            "padding": null,
            "grid_auto_rows": null,
            "grid_gap": null,
            "max_width": null,
            "order": null,
            "_view_module_version": "1.2.0",
            "grid_template_areas": null,
            "object_position": null,
            "object_fit": null,
            "grid_auto_columns": null,
            "margin": null,
            "display": null,
            "left": null
          }
        },
        "f4c8f7c15c004c05a987e738235f6185": {
          "model_module": "@jupyter-widgets/controls",
          "model_name": "HBoxModel",
          "state": {
            "_view_name": "HBoxView",
            "_dom_classes": [],
            "_model_name": "HBoxModel",
            "_view_module": "@jupyter-widgets/controls",
            "_model_module_version": "1.5.0",
            "_view_count": null,
            "_view_module_version": "1.5.0",
            "box_style": "",
            "layout": "IPY_MODEL_12d490c05f8d4999bd9fa464119b6652",
            "_model_module": "@jupyter-widgets/controls",
            "children": [
              "IPY_MODEL_b4977f154c3145949e992f19eb0e3774",
              "IPY_MODEL_34918cd1e6684ddcbd741d251466a055"
            ]
          }
        },
        "12d490c05f8d4999bd9fa464119b6652": {
          "model_module": "@jupyter-widgets/base",
          "model_name": "LayoutModel",
          "state": {
            "_view_name": "LayoutView",
            "grid_template_rows": null,
            "right": null,
            "justify_content": null,
            "_view_module": "@jupyter-widgets/base",
            "overflow": null,
            "_model_module_version": "1.2.0",
            "_view_count": null,
            "flex_flow": null,
            "width": null,
            "min_width": null,
            "border": null,
            "align_items": null,
            "bottom": null,
            "_model_module": "@jupyter-widgets/base",
            "top": null,
            "grid_column": null,
            "overflow_y": null,
            "overflow_x": null,
            "grid_auto_flow": null,
            "grid_area": null,
            "grid_template_columns": null,
            "flex": null,
            "_model_name": "LayoutModel",
            "justify_items": null,
            "grid_row": null,
            "max_height": null,
            "align_content": null,
            "visibility": null,
            "align_self": null,
            "height": null,
            "min_height": null,
            "padding": null,
            "grid_auto_rows": null,
            "grid_gap": null,
            "max_width": null,
            "order": null,
            "_view_module_version": "1.2.0",
            "grid_template_areas": null,
            "object_position": null,
            "object_fit": null,
            "grid_auto_columns": null,
            "margin": null,
            "display": null,
            "left": null
          }
        },
        "b4977f154c3145949e992f19eb0e3774": {
          "model_module": "@jupyter-widgets/controls",
          "model_name": "FloatProgressModel",
          "state": {
            "_view_name": "ProgressView",
            "style": "IPY_MODEL_044c798e4930473dbdf7dcf50990a84f",
            "_dom_classes": [],
            "description": "100%",
            "_model_name": "FloatProgressModel",
            "bar_style": "success",
            "max": 100000,
            "_view_module": "@jupyter-widgets/controls",
            "_model_module_version": "1.5.0",
            "value": 100000,
            "_view_count": null,
            "_view_module_version": "1.5.0",
            "orientation": "horizontal",
            "min": 0,
            "description_tooltip": null,
            "_model_module": "@jupyter-widgets/controls",
            "layout": "IPY_MODEL_c996edb34d1f43d9b7448a196bcea1cf"
          }
        },
        "34918cd1e6684ddcbd741d251466a055": {
          "model_module": "@jupyter-widgets/controls",
          "model_name": "HTMLModel",
          "state": {
            "_view_name": "HTMLView",
            "style": "IPY_MODEL_910703c96e08490587e96a2b7438bd40",
            "_dom_classes": [],
            "description": "",
            "_model_name": "HTMLModel",
            "placeholder": "​",
            "_view_module": "@jupyter-widgets/controls",
            "_model_module_version": "1.5.0",
            "value": " 100000/100000 [16:15&lt;00:00, 102.56it/s]",
            "_view_count": null,
            "_view_module_version": "1.5.0",
            "description_tooltip": null,
            "_model_module": "@jupyter-widgets/controls",
            "layout": "IPY_MODEL_03b0ced9b34047c0a9eb135a7e91c5d4"
          }
        },
        "044c798e4930473dbdf7dcf50990a84f": {
          "model_module": "@jupyter-widgets/controls",
          "model_name": "ProgressStyleModel",
          "state": {
            "_view_name": "StyleView",
            "_model_name": "ProgressStyleModel",
            "description_width": "initial",
            "_view_module": "@jupyter-widgets/base",
            "_model_module_version": "1.5.0",
            "_view_count": null,
            "_view_module_version": "1.2.0",
            "bar_color": null,
            "_model_module": "@jupyter-widgets/controls"
          }
        },
        "c996edb34d1f43d9b7448a196bcea1cf": {
          "model_module": "@jupyter-widgets/base",
          "model_name": "LayoutModel",
          "state": {
            "_view_name": "LayoutView",
            "grid_template_rows": null,
            "right": null,
            "justify_content": null,
            "_view_module": "@jupyter-widgets/base",
            "overflow": null,
            "_model_module_version": "1.2.0",
            "_view_count": null,
            "flex_flow": null,
            "width": null,
            "min_width": null,
            "border": null,
            "align_items": null,
            "bottom": null,
            "_model_module": "@jupyter-widgets/base",
            "top": null,
            "grid_column": null,
            "overflow_y": null,
            "overflow_x": null,
            "grid_auto_flow": null,
            "grid_area": null,
            "grid_template_columns": null,
            "flex": null,
            "_model_name": "LayoutModel",
            "justify_items": null,
            "grid_row": null,
            "max_height": null,
            "align_content": null,
            "visibility": null,
            "align_self": null,
            "height": null,
            "min_height": null,
            "padding": null,
            "grid_auto_rows": null,
            "grid_gap": null,
            "max_width": null,
            "order": null,
            "_view_module_version": "1.2.0",
            "grid_template_areas": null,
            "object_position": null,
            "object_fit": null,
            "grid_auto_columns": null,
            "margin": null,
            "display": null,
            "left": null
          }
        },
        "910703c96e08490587e96a2b7438bd40": {
          "model_module": "@jupyter-widgets/controls",
          "model_name": "DescriptionStyleModel",
          "state": {
            "_view_name": "StyleView",
            "_model_name": "DescriptionStyleModel",
            "description_width": "",
            "_view_module": "@jupyter-widgets/base",
            "_model_module_version": "1.5.0",
            "_view_count": null,
            "_view_module_version": "1.2.0",
            "_model_module": "@jupyter-widgets/controls"
          }
        },
        "03b0ced9b34047c0a9eb135a7e91c5d4": {
          "model_module": "@jupyter-widgets/base",
          "model_name": "LayoutModel",
          "state": {
            "_view_name": "LayoutView",
            "grid_template_rows": null,
            "right": null,
            "justify_content": null,
            "_view_module": "@jupyter-widgets/base",
            "overflow": null,
            "_model_module_version": "1.2.0",
            "_view_count": null,
            "flex_flow": null,
            "width": null,
            "min_width": null,
            "border": null,
            "align_items": null,
            "bottom": null,
            "_model_module": "@jupyter-widgets/base",
            "top": null,
            "grid_column": null,
            "overflow_y": null,
            "overflow_x": null,
            "grid_auto_flow": null,
            "grid_area": null,
            "grid_template_columns": null,
            "flex": null,
            "_model_name": "LayoutModel",
            "justify_items": null,
            "grid_row": null,
            "max_height": null,
            "align_content": null,
            "visibility": null,
            "align_self": null,
            "height": null,
            "min_height": null,
            "padding": null,
            "grid_auto_rows": null,
            "grid_gap": null,
            "max_width": null,
            "order": null,
            "_view_module_version": "1.2.0",
            "grid_template_areas": null,
            "object_position": null,
            "object_fit": null,
            "grid_auto_columns": null,
            "margin": null,
            "display": null,
            "left": null
          }
        }
      }
    }
  },
  "cells": [
    {
      "cell_type": "code",
      "metadata": {
        "id": "Mw7pt5ZmH8om"
      },
      "source": [
        "from pathlib import Path\n",
        "\n",
        "import matplotlib.pyplot as plt\n",
        "import numpy as np\n",
        "import seaborn as sns\n",
        "import tqdm\n",
        "\n",
        "from tic_tac_toe import TicTacToe, TikTakCounter\n",
        "from dqn_agent import DQNTrainer, DQN1\n",
        "from dqn_duel_agent import DQNDuelTrainer"
      ],
      "execution_count": 4,
      "outputs": []
    },
    {
      "cell_type": "markdown",
      "metadata": {
        "id": "Ij5LrkmFH8ot"
      },
      "source": [
        "Реализуйте DQN с нейронной сетью, обучите стратегии крестиков и ноликов. Замечание: скорее всего, experience replay потребуется сразу же."
      ]
    },
    {
      "cell_type": "markdown",
      "metadata": {
        "id": "fOyqn_37H8ov"
      },
      "source": [
        "Стратегия реализована на основе примера из лекции и [пирмера из pytorch](https://pytorch.org/tutorials/intermediate/reinforcement_q_learning.html)"
      ]
    },
    {
      "cell_type": "code",
      "metadata": {
        "colab": {
          "base_uri": "https://localhost:8080/",
          "height": 445,
          "referenced_widgets": [
            "1d377e06d03d4b63aa6ccf2a563a33ce",
            "3026742090414e21b3bdfec47e56d081",
            "9d44ae991eba4b14912c62647c951caf",
            "a6778c198b364797bf6bdcf844c2e2ca",
            "523089b978e44acc92b4a9431dcbf5ab",
            "a636db9e9be64fa8842f98fb442fefc5",
            "6651cafb8ad64a2084e514d745214d8c",
            "d8c5efc938334033ba8628d561cf725c"
          ]
        },
        "id": "9WM7cR-CH8ov",
        "outputId": "76fc9c96-07cc-47fd-b2b7-0f6461eb8889"
      },
      "source": [
        "env = TicTacToe(4, 4, 4)\n",
        "trainer = DQNTrainer(env, memory_size=60_000, batch_size=128)\n",
        "counter = trainer.train(1, env, 100_000)"
      ],
      "execution_count": 5,
      "outputs": [
        {
          "output_type": "display_data",
          "data": {
            "application/vnd.jupyter.widget-view+json": {
              "model_id": "1d377e06d03d4b63aa6ccf2a563a33ce",
              "version_minor": 0,
              "version_major": 2
            },
            "text/plain": [
              "HBox(children=(FloatProgress(value=0.0, max=100000.0), HTML(value='')))"
            ]
          },
          "metadata": {
            "tags": []
          }
        },
        {
          "output_type": "stream",
          "text": [
            "cross=5 naughts=0 tot=1665 draw=6 invalid=1654\n",
            "cross=15 naughts=0 tot=3265 draw=9 invalid=3241\n",
            "cross=24 naughts=0 tot=4880 draw=13 invalid=4843\n",
            "cross=27 naughts=0 tot=6493 draw=15 invalid=6451\n",
            "cross=36 naughts=0 tot=8096 draw=18 invalid=8042\n",
            "cross=44 naughts=0 tot=9708 draw=23 invalid=9641\n",
            "cross=46 naughts=0 tot=11336 draw=25 invalid=11265\n",
            "cross=50 naughts=0 tot=12957 draw=25 invalid=12882\n",
            "cross=56 naughts=0 tot=14589 draw=27 invalid=14506\n",
            "cross=62 naughts=0 tot=16212 draw=29 invalid=16121\n",
            "cross=73 naughts=0 tot=17836 draw=31 invalid=17732\n",
            "cross=78 naughts=0 tot=19454 draw=37 invalid=19339\n",
            "cross=86 naughts=0 tot=21096 draw=39 invalid=20971\n",
            "cross=93 naughts=0 tot=22674 draw=41 invalid=22540\n",
            "cross=98 naughts=0 tot=24309 draw=48 invalid=24163\n",
            "cross=107 naughts=0 tot=25919 draw=51 invalid=25761\n",
            "cross=111 naughts=0 tot=27514 draw=54 invalid=27349\n",
            "cross=124 naughts=0 tot=29165 draw=58 invalid=28983\n",
            "cross=129 naughts=0 tot=30760 draw=60 invalid=30571\n",
            "cross=133 naughts=0 tot=32380 draw=65 invalid=32182\n",
            "\n"
          ],
          "name": "stdout"
        }
      ]
    },
    {
      "cell_type": "code",
      "metadata": {
        "colab": {
          "base_uri": "https://localhost:8080/",
          "height": 388
        },
        "id": "sfLrC2gbH8ov",
        "outputId": "2d91b90a-0bd4-4b39-f0b6-8b47a5cf25ce"
      },
      "source": [
        "plt.figure(figsize=(10,6))\n",
        "x, y = counter.tot_list,  counter.cross_list\n",
        "ax1, = plt.plot(x,y, linestyle='-')\n",
        "\n",
        "x, y = counter.tot_list,  counter.draw_list\n",
        "ax2, = plt.plot(x,y, linestyle='-')\n",
        "\n",
        "x, y = counter.tot_list,  counter.naughts_list\n",
        "ax3, = plt.plot(x,y, linestyle='-')\n",
        "\n",
        "\n",
        "plt.legend([ax1, ax2, ax3], ['победы крестиков', 'победа ноликов', ' ничья'])\n",
        "plt.xlabel('количество игр')\n",
        "plt.show()"
      ],
      "execution_count": 13,
      "outputs": [
        {
          "output_type": "display_data",
          "data": {
            "image/png": "[encoded data removed]",
            "text/plain": [
              "<Figure size 720x432 with 1 Axes>"
            ]
          },
          "metadata": {
            "tags": [],
            "needs_background": "light"
          }
        }
      ]
    },
    {
      "cell_type": "code",
      "metadata": {
        "id": "w5dVifk5dNPr"
      },
      "source": [
        "invalid_perc = [float(inv)/float(tot) for inv, tot in zip(counter.invalid_list, counter.tot_list)]"
      ],
      "execution_count": 7,
      "outputs": []
    },
    {
      "cell_type": "code",
      "metadata": {
        "colab": {
          "base_uri": "https://localhost:8080/",
          "height": 388
        },
        "id": "YZBmQzKGdGuE",
        "outputId": "fa3e4214-0619-4002-ebce-2964dd4e2673"
      },
      "source": [
        "plt.figure(figsize=(10,6))\n",
        "x, y = counter.tot_list,  invalid_perc\n",
        "ax1, = plt.plot(x,y, linestyle='-')\n",
        "\n",
        "plt.legend([ax1], ['процент ошибок в игре'])\n",
        "plt.xlabel('количество игр')\n",
        "plt.show()"
      ],
      "execution_count": 8,
      "outputs": [
        {
          "output_type": "display_data",
          "data": {
            "image/png": "[encoded data removed]",
            "text/plain": [
              "<Figure size 720x432 with 1 Axes>"
            ]
          },
          "metadata": {
            "tags": [],
            "needs_background": "light"
          }
        }
      ]
    },
    {
      "cell_type": "markdown",
      "metadata": {
        "id": "KXSKfCOWd8TM"
      },
      "source": [
        "Если dqn - агент не совершает ошибочного хода, то он выигрывает. Основную проблемы составляют ошибочные ходы, из графика видно, что их процент составляет достаточно большое количеств. Необходимо больше шагов обучения для их уменьшения."
      ]
    },
    {
      "cell_type": "code",
      "metadata": {
        "colab": {
          "base_uri": "https://localhost:8080/",
          "height": 445,
          "referenced_widgets": [
            "f4c8f7c15c004c05a987e738235f6185",
            "12d490c05f8d4999bd9fa464119b6652",
            "b4977f154c3145949e992f19eb0e3774",
            "34918cd1e6684ddcbd741d251466a055",
            "044c798e4930473dbdf7dcf50990a84f",
            "c996edb34d1f43d9b7448a196bcea1cf",
            "910703c96e08490587e96a2b7438bd40",
            "03b0ced9b34047c0a9eb135a7e91c5d4"
          ]
        },
        "id": "58rTIVvI19jZ",
        "outputId": "2ed31323-f857-4ee6-cafc-e354ff474075"
      },
      "source": [
        "env = TicTacToe(4, 4, 4)\n",
        "trainer = DQNDuelTrainer(env, memory_size=60_000, batch_size=128)\n",
        "counter = trainer.train(1, env, 100_000)"
      ],
      "execution_count": 9,
      "outputs": [
        {
          "output_type": "display_data",
          "data": {
            "application/vnd.jupyter.widget-view+json": {
              "model_id": "f4c8f7c15c004c05a987e738235f6185",
              "version_minor": 0,
              "version_major": 2
            },
            "text/plain": [
              "HBox(children=(FloatProgress(value=0.0, max=100000.0), HTML(value='')))"
            ]
          },
          "metadata": {
            "tags": []
          }
        },
        {
          "output_type": "stream",
          "text": [
            "cross=4 naughts=0 tot=1620 draw=2 invalid=1614\n",
            "cross=9 naughts=0 tot=3249 draw=5 invalid=3235\n",
            "cross=14 naughts=0 tot=4893 draw=5 invalid=4874\n",
            "cross=23 naughts=0 tot=6519 draw=7 invalid=6489\n",
            "cross=28 naughts=0 tot=8135 draw=12 invalid=8095\n",
            "cross=35 naughts=0 tot=9750 draw=14 invalid=9701\n",
            "cross=43 naughts=0 tot=11370 draw=16 invalid=11311\n",
            "cross=45 naughts=0 tot=13010 draw=16 invalid=12949\n",
            "cross=54 naughts=0 tot=14616 draw=20 invalid=14542\n",
            "cross=60 naughts=0 tot=16202 draw=27 invalid=16115\n",
            "cross=66 naughts=0 tot=17819 draw=30 invalid=17723\n",
            "cross=70 naughts=0 tot=19429 draw=31 invalid=19328\n",
            "cross=77 naughts=0 tot=21036 draw=33 invalid=20926\n",
            "cross=82 naughts=0 tot=22660 draw=35 invalid=22543\n",
            "cross=86 naughts=0 tot=24286 draw=40 invalid=24160\n",
            "cross=91 naughts=0 tot=25892 draw=41 invalid=25760\n",
            "cross=95 naughts=0 tot=27506 draw=42 invalid=27369\n",
            "cross=101 naughts=0 tot=29097 draw=42 invalid=28954\n",
            "cross=107 naughts=0 tot=30694 draw=44 invalid=30543\n",
            "cross=114 naughts=0 tot=32310 draw=47 invalid=32149\n",
            "\n"
          ],
          "name": "stdout"
        }
      ]
    },
    {
      "cell_type": "code",
      "metadata": {
        "id": "vzl8JXTV2JH7",
        "colab": {
          "base_uri": "https://localhost:8080/",
          "height": 388
        },
        "outputId": "fdf5dcc3-d96e-43dd-a7c1-bfefb3d07d4f"
      },
      "source": [
        "plt.figure(figsize=(10,6))\n",
        "x, y = counter.tot_list,  counter.cross_list\n",
        "ax1, = plt.plot(x,y, linestyle='-')\n",
        "\n",
        "x, y = counter.tot_list,  counter.draw_list\n",
        "ax2, = plt.plot(x,y, linestyle='-')\n",
        "\n",
        "x, y = counter.tot_list,  counter.naughts_list\n",
        "ax3, = plt.plot(x,y, linestyle='-')\n",
        "\n",
        "\n",
        "plt.legend([ax1, ax2, ax3], ['победы крестиков', 'победа ноликов', ' ничья'])\n",
        "plt.xlabel('количество игр')\n",
        "plt.show()"
      ],
      "execution_count": 12,
      "outputs": [
        {
          "output_type": "display_data",
          "data": {
            "image/png": "[encoded data removed]",
            "text/plain": [
              "<Figure size 720x432 with 1 Axes>"
            ]
          },
          "metadata": {
            "tags": [],
            "needs_background": "light"
          }
        }
      ]
    },
    {
      "cell_type": "code",
      "metadata": {
        "id": "Gy5fXA6K2VYm"
      },
      "source": [
        "invalid_perc = [float(inv)/float(tot) for inv, tot in zip(counter.invalid_list, counter.tot_list)]"
      ],
      "execution_count": 11,
      "outputs": []
    },
    {
      "cell_type": "code",
      "metadata": {
        "id": "deGfSMrn5PQ2"
      },
      "source": [
        ""
      ],
      "execution_count": null,
      "outputs": []
    }
  ]
}