{
 "cells": [
  {
   "cell_type": "code",
   "execution_count": 8,
   "metadata": {},
   "outputs": [],
   "source": [
    "from pathlib import Path\n",
    "\n",
    "import matplotlib.pyplot as plt\n",
    "import numpy as np\n",
    "import seaborn as sns\n",
    "import tqdm\n",
    "\n",
    "from min_max_agent import MinMaxAgent\n",
    "from qlearning_agent import QleaningAgent, play_game\n",
    "from tic_tac_toe import TicTacToe, TikTakCounter"
   ]
  },
  {
   "cell_type": "markdown",
   "metadata": {},
   "source": [
    "Часть первая: крестики-нолики при помощи Q-обучения\n",
    "В коде, прилагающемся к последней лекции про обучение с подкреплением, реализован Environment для крестиков-ноликов, в котором можно при инициализации указывать разные размеры доски и условия победы, а также функции для рисования, в том числе с указанием оценки различных действий. С этим окружением все задания и связаны."
   ]
  },
  {
   "cell_type": "markdown",
   "metadata": {},
   "source": [
    "Для размера 3x3 можно сравнить минимакс агентом, для таких размеров он еще работает"
   ]
  },
  {
   "cell_type": "code",
   "execution_count": 30,
   "metadata": {},
   "outputs": [],
   "source": [
    "env = TicTacToe(3, 3, 3)\n",
    "agent1 = QleaningAgent(env)\n",
    "agent2 = MinMaxAgent(env)"
   ]
  },
  {
   "cell_type": "code",
   "execution_count": 31,
   "metadata": {},
   "outputs": [
    {
     "name": "stderr",
     "output_type": "stream",
     "text": [
      "100%|██████████| 100000/100000 [01:29<00:00, 1115.47it/s]\n"
     ]
    }
   ],
   "source": [
    "counter1 = TikTakCounter(100)\n",
    "N_GAME=100_000\n",
    "for i in tqdm.tqdm(range(N_GAME)):\n",
    "    play_game(env, agent2, agent1, counter1, False, False, verbose=False)\n",
    "    counter1.tot += 1\n",
    "    counter1.update_history()"
   ]
  },
  {
   "cell_type": "code",
   "execution_count": 32,
   "metadata": {},
   "outputs": [
    {
     "data": {
      "text/plain": [
       "cross=49 naughts=0 tot=100000 draw=99870 invalid=81"
      ]
     },
     "execution_count": 32,
     "metadata": {},
     "output_type": "execute_result"
    }
   ],
   "source": [
    "counter1"
   ]
  },
  {
   "cell_type": "code",
   "execution_count": 34,
   "metadata": {},
   "outputs": [
    {
     "data": {
      "image/png": "[encoded data removed]",
      "text/plain": [
       "<Figure size 720x432 with 1 Axes>"
      ]
     },
     "metadata": {
      "needs_background": "light"
     },
     "output_type": "display_data"
    }
   ],
   "source": [
    "plt.figure(figsize=(10,6))\n",
    "x, y = counter1.tot_list,  counter1.cross_list\n",
    "ax1, = plt.plot(x,y, linestyle='-', color='g')\n",
    "\n",
    "x, y = counter1.tot_list,  counter1.draw_list\n",
    "ax2, = plt.plot(x,y, linestyle='-', color='b')\n",
    "\n",
    "\n",
    "plt.legend([ax1, ax2], ['победы крестиков', 'ничья'])\n",
    "plt.xlabel('количество игр')\n",
    "plt.show()"
   ]
  },
  {
   "cell_type": "markdown",
   "metadata": {},
   "source": [
    "Для игры 3x3 Q-learning достаточно хорошо справляется с минимаксной стратегией, поробуем 4x4 и случайную стратегию"
   ]
  },
  {
   "cell_type": "code",
   "execution_count": null,
   "metadata": {},
   "outputs": [
    {
     "name": "stderr",
     "output_type": "stream",
     "text": [
      " 45%|████▌     | 45479/100000 [07:59<14:00, 64.87it/s] "
     ]
    }
   ],
   "source": [
    "env = TicTacToe(4, 4, 4)\n",
    "agent3 = QleaningAgent(env)\n",
    "counter3 = TikTakCounter(100)\n",
    "N_GAME=100_000\n",
    "for i in tqdm.tqdm(range(N_GAME)):\n",
    "    play_game(env, agent3, None, counter3,\n",
    "                    False, True, verbose=False)\n",
    "    counter3.tot += 1\n",
    "    counter3.update_history()"
   ]
  },
  {
   "cell_type": "code",
   "execution_count": null,
   "metadata": {},
   "outputs": [],
   "source": [
    "print(counter3)"
   ]
  },
  {
   "cell_type": "code",
   "execution_count": null,
   "metadata": {},
   "outputs": [],
   "source": [
    "plt.figure(figsize=(10,6))\n",
    "x, y = counter3.tot_list,  counter3.cross_list\n",
    "ax1, = plt.plot(x,y, linestyle='-')\n",
    "\n",
    "x, y = counter3.tot_list,  counter3.draw_list\n",
    "ax2, = plt.plot(x,y, linestyle='-')\n",
    "\n",
    "x, y = counter3.tot_list,  counter3.naughts_list\n",
    "ax3, = plt.plot(x,y, linestyle='-')\n",
    "\n",
    "plt.legend([ax1, ax2, ax3], ['победы крестиков', 'ничья', 'победа ноликов'])\n",
    "plt.xlabel('количество игр')\n",
    "plt.show()"
   ]
  },
  {
   "cell_type": "code",
   "execution_count": null,
   "metadata": {},
   "outputs": [],
   "source": []
  }
 ],
 "metadata": {
  "kernelspec": {
   "display_name": "Python 3",
   "language": "python",
   "name": "python3"
  },
  "language_info": {
   "codemirror_mode": {
    "name": "ipython",
    "version": 3
   },
   "file_extension": ".py",
   "mimetype": "text/x-python",
   "name": "python",
   "nbconvert_exporter": "python",
   "pygments_lexer": "ipython3",
   "version": "3.8.5"
  }
 },
 "nbformat": 4,
 "nbformat_minor": 2
}
